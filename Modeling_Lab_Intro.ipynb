{
  "nbformat": 4,
  "nbformat_minor": 0,
  "metadata": {
    "colab": {
      "provenance": []
    },
    "kernelspec": {
      "name": "python3",
      "display_name": "Python 3"
    },
    "language_info": {
      "name": "python"
    }
  },
  "cells": [
    {
      "cell_type": "markdown",
      "source": [
        "#Molecular Modeling"
      ],
      "metadata": {
        "id": "bIAPIjpg9ylp"
      }
    },
    {
      "cell_type": "markdown",
      "source": [
        "## Introduction"
      ],
      "metadata": {
        "id": "jv9fM1qo9y1s"
      }
    },
    {
      "cell_type": "markdown",
      "source": [
        "Molecular modeling is an area of chemistry that uses computational chemistry to rationalize experimental data, provide mechanistic insights, and to relate molecular structure to reactivity. With improvements in computer software and hardware, chemists are able to predict and explain\n",
        "with increasing accuracy the properties of increasingly sophisticated molecules.\n",
        "\n",
        "The aim of the CHM 445 molecular modeling experiment is to provide deeper insight into the $\\textit{experimental}$ results generated and the concepts covered in the lab. The current chapter is devoted\n",
        "to exercises aimed at familiarizing you with the basic concepts of molecular modeling and providing practice in performing calculations. As the semester progresses, you will be required to perform similar calculations on your own in order to answer post-lab questions related to most laboratory experiments. It is thus in your interest to become confident and competent in using [Psi4](https://psicode.org/). You may find the [Psi4 manual](https://psicode.org/psi4manual/master/index.html) useful. The information and exercises contained within this chapter serve as an excellent resource."
      ],
      "metadata": {
        "id": "jp2KzdtB9-MM"
      }
    },
    {
      "cell_type": "markdown",
      "source": [
        "## Pre-lab Instructions"
      ],
      "metadata": {
        "id": "HKXsq0dg9y4V"
      }
    },
    {
      "cell_type": "markdown",
      "source": [
        "You must complete the pre-lab tasks detailed below. These tasks replace the typical pre-lab questions, reagent table, procedure notes, etc."
      ],
      "metadata": {
        "id": "IX8Nm9fZ9y63"
      }
    },
    {
      "cell_type": "markdown",
      "source": [
        "### Read sections before class"
      ],
      "metadata": {
        "id": "d_Pf0WUO9y9Z"
      }
    },
    {
      "cell_type": "markdown",
      "source": [
        "It is crucial that you are familiar with the background information provided before the lab sessions begin. The more familiar you are\n",
        "with Psi4, the more likely you are to successfully complete the computational experiments in a reasonable amount of time."
      ],
      "metadata": {
        "id": "7qtuUwdj9y_6"
      }
    },
    {
      "cell_type": "markdown",
      "source": [
        "## Getting started with Google Colaboratory (Jupyter Notebooks) and Python\n",
        "\n"
      ],
      "metadata": {
        "id": "xW0hbCgt9zGx"
      }
    },
    {
      "cell_type": "markdown",
      "source": [
        "Google Colaboratry (a form of Jupyter Notebooks) and Python have had a significant impact on computational chemistry by making powerful computational tools more accessible, customizable, and user-friendly. Here's how they've revolutionized the field:"
      ],
      "metadata": {
        "id": "dEJLknHVd1XR"
      }
    },
    {
      "cell_type": "markdown",
      "source": [
        "### Accessibility and Usability"
      ],
      "metadata": {
        "id": "p8_Wzjj7d1Zy"
      }
    },
    {
      "cell_type": "markdown",
      "source": [
        "Jupyter Notebooks provide an interactive environment where users can write and execute code in real-time. This allows chemists to run simulations, analyze data, and visualize results in one place, making it easier to explore and experiment with computational models.\n",
        "\n",
        "Jupyter’s support for combining code, text, and equations in a single document is ideal for computational chemistry. Researchers can explain their methods, annotate their code, and include LaTeX-formatted chemical equations, all in the same document.\n",
        "\n",
        "Lastly, jupyter notebooks utilizing python are open-source that run on various platforms (Windows, macOS, Linux). This means computational chemistry scripts and notebooks can be shared and run on different systems without compatibility issues."
      ],
      "metadata": {
        "id": "S7-mM6YTd1cC"
      }
    },
    {
      "cell_type": "markdown",
      "source": [
        "### Powerful Libraries and Tools"
      ],
      "metadata": {
        "id": "gHWk6V_sd1eL"
      }
    },
    {
      "cell_type": "markdown",
      "source": [
        "Python has a rich ecosystem of libraries for computational chemistry. Some that we will use include:\n",
        " - RDKit: For cheminformatics and molecular modeling.\n",
        " - ASE (Atomic Simulation Environment): For setting up, manipulating, and analyzing atomic simulations.\n",
        " - Psi4: An open-source quantum chemistry software package for ab initio calculations.\n",
        " - NumPy: Supports use of large, multi-dimensional arrays and matrices, along with a large collection of high-level mathematical functions to operate on these arrays.\n",
        " - Pandas: Support for working with data sets. It has functions for analyzing, cleaning, exploring, and manipulating data.\n",
        " - Matplotlib: A comprehensive library for creating static, animated, and interactive visualizations in Python. Matplotlib makes easy things easy and hard things possible. Create publication quality plots. Make interactive figures that can zoom, pan, update."
      ],
      "metadata": {
        "id": "xFPHF47ieYPh"
      }
    },
    {
      "cell_type": "markdown",
      "source": [
        "### Overall Impact of Jupyter Notebooks/Google Colaboratory with Python"
      ],
      "metadata": {
        "id": "2jGL6nP8eYRz"
      }
    },
    {
      "cell_type": "markdown",
      "source": [
        "Overall, Jupyter Notebooks and Python have transformed computational chemistry by providing a versatile, accessible, and powerful platform for conducting, sharing, and teaching complex computational work. They enable a wide range of researchers, from students to professionals, to engage in computational chemistry more effectively and collaboratively."
      ],
      "metadata": {
        "id": "SCgSL939eYT4"
      }
    },
    {
      "cell_type": "markdown",
      "source": [
        "## Common Job Types\n"
      ],
      "metadata": {
        "id": "dXUOlpHk9zLt"
      }
    },
    {
      "cell_type": "markdown",
      "source": [
        "### Energy Determination"
      ],
      "metadata": {
        "id": "U-u6YsJFXXMc"
      }
    },
    {
      "cell_type": "markdown",
      "source": [
        "Calculates the optimized molecular orbitals, by determining the combination of atomic orbitals that allows for the lowest energy electron configuration."
      ],
      "metadata": {
        "id": "5CweUAD8XaD1"
      }
    },
    {
      "cell_type": "markdown",
      "source": [
        "### Geometry Optimization"
      ],
      "metadata": {
        "id": "O6-SWUYz9zOX"
      }
    },
    {
      "cell_type": "markdown",
      "source": [
        "Calculates an optimized, energy-minimized geometry or structure for\n",
        "an input geometry or structure. In each step of a geometry optimization, an energy determination calculation is completed."
      ],
      "metadata": {
        "id": "XRavAZk89zRO"
      }
    },
    {
      "cell_type": "markdown",
      "source": [
        "### Vibrational Frequencies"
      ],
      "metadata": {
        "id": "tOlh671j9zUO"
      }
    },
    {
      "cell_type": "markdown",
      "source": [
        "Calculates the infrared and Raman vibrational frequencies of a molecule. The vibrational modes also offer insight into the structure optimized in a geometry optimization step."
      ],
      "metadata": {
        "id": "BC5kEU4AXRqz"
      }
    },
    {
      "cell_type": "markdown",
      "source": [
        "### Opt+Freq"
      ],
      "metadata": {
        "id": "9BqPor2PXRtH"
      }
    },
    {
      "cell_type": "markdown",
      "source": [
        "Calculates the optimized geometry and the vibrational frequency for a\n",
        "molecule in one combined job of the previous two job types. This will be your most common job type."
      ],
      "metadata": {
        "id": "lX5ti9b7XRvW"
      }
    },
    {
      "cell_type": "markdown",
      "source": [
        "### NMR"
      ],
      "metadata": {
        "id": "WjHLE9QXXRxv"
      }
    },
    {
      "cell_type": "markdown",
      "source": [
        "Calculates the chemical shifts of the atoms in an input geometry. The $^1$H and $^{13}$C NMR chemical shift values are calculated relative to TMS."
      ],
      "metadata": {
        "id": "WSxnSRGZXR0D"
      }
    },
    {
      "cell_type": "markdown",
      "source": [
        "### Coordinate Scan\n",
        "\n"
      ],
      "metadata": {
        "id": "_yohr17wXR2S"
      }
    },
    {
      "cell_type": "markdown",
      "source": [
        "Generates the molecular orbitals, electron density, atomic charges, and the natural hybrid and bond orbitals of a molecule using NBO 6.0, a program developed by UW-Madison theoretical chemist Prof. Frank Weinhold. NBO displays the orbitals in a clear, user-friendly manner."
      ],
      "metadata": {
        "id": "CXZjStILXR4p"
      }
    },
    {
      "cell_type": "markdown",
      "source": [
        "### Transition State Structure (TSS) Optimization"
      ],
      "metadata": {
        "id": "ROkBEh5dXR6_"
      }
    },
    {
      "cell_type": "markdown",
      "source": [
        "Calculates an optimized geometry for a molecular structure that\n",
        "possesses exactly one negative (imaginary) vibrational mode. Such a molecule represents a transition state (an energy maximum on the potential energy surface or reaction coordinate diagram)."
      ],
      "metadata": {
        "id": "xIkIPFWnXR9P"
      }
    },
    {
      "cell_type": "markdown",
      "source": [
        "## Model Chemistry"
      ],
      "metadata": {
        "id": "1wIHgo7vXR_g"
      }
    },
    {
      "cell_type": "markdown",
      "source": [
        "In computational chemistry, the phrase \"model chemistry\" refers to a specific combination of methods and approximations used to calculate the electronic structure and properties of molecules. It defines the theoretical framework chosen to represent a chemical system computationally, balancing accuracy and computational cost. Key elements of model chemistry include:\n",
        "\n",
        "    "
      ],
      "metadata": {
        "id": "eUW5jeksZKg1"
      }
    },
    {
      "cell_type": "markdown",
      "source": [
        "### Level of Theory"
      ],
      "metadata": {
        "id": "zVNOQHdBZP5C"
      }
    },
    {
      "cell_type": "markdown",
      "source": [
        "\"Level of theory\" refers to the specific method or combination of methods used to approximate the quantum mechanical behavior of a chemical system. It defines the mathematical framework chosen to describe the electronic structure and properties of molecules.\n",
        "\n",
        "A basic quantum mechanical method that approximates the behavior of electrons using the mean field approach is known as Hartree-Fock (HF).\n",
        "\n",
        "Post-Hartree-Fock Methods: These include more sophisticated and accurate methods like Møller-Plesset perturbation theory (MP2), coupled-cluster theory (CC), and configuration interaction (CI), which go beyond Hartree-Fock by considering electron correlation explicitly.\n",
        "\n",
        "In recent years, popular methods known as Density Functional Theory (DFT)methods use electron density rather than wavefunctions to calculate molecular properties. DFT methods often providing a good balance between accuracy and computational efficiency. Popular DFT methods include B3LYP, BP86, and M06-2X.\n",
        "\n"
      ],
      "metadata": {
        "id": "eWg3E2i0ZV0e"
      }
    },
    {
      "cell_type": "markdown",
      "source": [
        "### Basis Set"
      ],
      "metadata": {
        "id": "NmcLohvvasce"
      }
    },
    {
      "cell_type": "markdown",
      "source": [
        "A basis set is a collection of mathematical functions used to approximate atomic orbitals. These surrogate orbitals are easier to compute and are used to describe the molecular orbitals in a quantum chemical calculation. Choosing a basis set involves a trade-off between computational cost and the accuracy of the molecular description.\n",
        "\n",
        "Examples of common basis sets include minimal basis sets (like STO-3G), split-valence basis sets (like 6-31G), and correlation-consistent basis sets (like cc-pVDZ or aug-cc-pVTZ)."
      ],
      "metadata": {
        "id": "jPQ6OHEQasep"
      }
    },
    {
      "cell_type": "markdown",
      "source": [
        "### Other Aspects of Model Chemistry"
      ],
      "metadata": {
        "id": "nsiPEansbGbP"
      }
    },
    {
      "cell_type": "markdown",
      "source": [
        "Other aspects included in model chemistry include: incorporation of solvent, emperical corrections (experimental corrections added to improve accuracy), etc."
      ],
      "metadata": {
        "id": "qhzIwmgkbGds"
      }
    },
    {
      "cell_type": "markdown",
      "source": [
        "### Why is Model Chemistry Important?"
      ],
      "metadata": {
        "id": "a1Z4YYFlba6g"
      }
    },
    {
      "cell_type": "markdown",
      "source": [
        "Model chemistry is akin to the experimental parameters in a typical wet-chemistry experiment, e.g., specific rotation in polarimetry is reported when using the sodium D line. The wavelength of the sodium D line is 589 nm. If you are looking to reproduce specific rotation measurements, you need to utilize this wavelength of light.\n",
        "\n",
        "The model chemistry represents the specific trade-off between accuracy and computational cost: The choice of model chemistry is crucial because it determines the accuracy of the results and the computational resources required. For example, while a higher level of theory like coupled-cluster methods can give highly accurate results, it is also much more computationally expensive than DFT or Hartree-Fock.\n",
        "\n",
        "Lastly, different model chemistries are better suited for different types of problems. For instance, highly accurate methods like CCSD(T) might be necessary for small molecules or benchmark calculations, while DFT may be more appropriate for large systems like biomolecules or materials, where computational cost is a concern."
      ],
      "metadata": {
        "id": "tKAyIJynba_y"
      }
    },
    {
      "cell_type": "markdown",
      "source": [
        "### Examples of Common Model Chemistries"
      ],
      "metadata": {
        "id": "cmTnj5RocoRT"
      }
    },
    {
      "cell_type": "markdown",
      "source": [
        "HF/6-31G: Hartree-Fock method with the 6-31G basis set, often used for basic quantum chemistry calculations.\n",
        "\n",
        "B3LYP/6-31G(d): A popular model chemistry combining the B3LYP functional (a hybrid DFT method) with the 6-31G(d) basis set. Widely used for organic molecules and reaction mechanisms.\n",
        "\n",
        "MP2/cc-pVTZ: Møller-Plesset perturbation theory (second-order) with the correlation-consistent polarized valence triple-zeta basis set, used for more accurate calculations involving electron correlation."
      ],
      "metadata": {
        "id": "SHiM4D2QcoTq"
      }
    },
    {
      "cell_type": "markdown",
      "source": [
        "### Conclusions About Model Chemistry"
      ],
      "metadata": {
        "id": "qWx_TPQcZ4Rw"
      }
    },
    {
      "cell_type": "markdown",
      "source": [
        "The phrase \"model chemistry\" in computational chemistry encapsulates the theoretical and practical choices made in a computational study. It combines the method (e.g., DFT, MP2), basis set, and any additional corrections or assumptions to form a computational approach tailored to the specific problem being studied. The goal is to achieve a balance between accuracy and computational feasibility appropriate to the chemical question at hand."
      ],
      "metadata": {
        "id": "IaDGtL4vc5LK"
      }
    }
  ]
}