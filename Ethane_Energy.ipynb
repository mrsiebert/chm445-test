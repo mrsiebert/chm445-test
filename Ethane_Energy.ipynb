{
  "nbformat": 4,
  "nbformat_minor": 0,
  "metadata": {
    "colab": {
      "provenance": []
    },
    "kernelspec": {
      "name": "python3",
      "display_name": "Python 3"
    },
    "language_info": {
      "name": "python"
    }
  },
  "cells": [
    {
      "cell_type": "code",
      "execution_count": null,
      "metadata": {
        "id": "sfRLV17WdeYF"
      },
      "outputs": [],
      "source": []
    },
    {
      "cell_type": "markdown",
      "source": [
        "# Energy as a function of dihedral angle in ethane"
      ],
      "metadata": {
        "id": "Rslqrbw2dkpw"
      }
    },
    {
      "cell_type": "code",
      "source": [
        "!pip install -q condacolab\n",
        "import condacolab\n",
        "condacolab.install()"
      ],
      "metadata": {
        "colab": {
          "base_uri": "https://localhost:8080/"
        },
        "id": "5fbGoUYjdqct",
        "outputId": "3b6c4d3f-43f9-4e0f-9412-8ab49a45ed11"
      },
      "execution_count": 1,
      "outputs": [
        {
          "output_type": "stream",
          "name": "stdout",
          "text": [
            "⏬ Downloading https://github.com/conda-forge/miniforge/releases/download/23.11.0-0/Mambaforge-23.11.0-0-Linux-x86_64.sh...\n",
            "📦 Installing...\n",
            "📌 Adjusting configuration...\n",
            "🩹 Patching environment...\n",
            "⏲ Done in 0:00:22\n",
            "🔁 Restarting kernel...\n"
          ]
        }
      ]
    },
    {
      "cell_type": "code",
      "source": [
        "import subprocess\n",
        "import sys\n",
        "subprocess.run(\"rm -rf /usr/local/conda-meta/pinned\", shell=True)\n",
        "subprocess.run(\"pip -q install py3Dmol\", shell=True)\n",
        "subprocess.run(\"!mamba install -c anaconda intel-openmp\", shell=True)\n",
        "subprocess.run(\"conda config --add channels http://conda.anaconda.org/psi4\", shell=True)\n",
        "subprocess.run(\"mamba install psi4 resp -c conda-forge/label/libint_dev -c conda-forge\", shell=True)\n",
        "subprocess.run(\"pip install rdkit-pypi\", shell=True)\n",
        "subprocess.run(\"pip install Cython\", shell=True)\n",
        "subprocess.run(\"mamba install -c conda-forge parmed -y\", shell=True)\n",
        "subprocess.run(\"mamba install -c conda-forge openbabel -y\", shell=True)\n",
        "\n",
        "import os\n",
        "import psi4\n",
        "import numpy as np\n",
        "import resp\n",
        "import openbabel as ob\n",
        "from rdkit import Chem\n",
        "from rdkit.Chem import AllChem"
      ],
      "metadata": {
        "id": "MjJoOGlmgxRG"
      },
      "execution_count": 1,
      "outputs": []
    },
    {
      "cell_type": "code",
      "source": [
        "geometry = \"\"\"\n",
        "C\n",
        "C 1 1.5307\n",
        "H 1 1.0936 2 111.3578\n",
        "H 1 1.0936 2 111.3578 3 120\n",
        "H 1 1.0936 2 111.3578 3 240\n",
        "H 2 1.0936 1 111.3578 3 60\n",
        "H 2 1.0936 1 111.3578 3 180\n",
        "H 2 1.0936 1 111.3578 3 300\n",
        "\"\"\""
      ],
      "metadata": {
        "id": "pR4i2Fp0dzz2"
      },
      "execution_count": 2,
      "outputs": []
    },
    {
      "cell_type": "code",
      "source": [
        "ethane = psi4.geometry(geometry)\n",
        "E, wfn = psi4.energy('scf/6-31g',molecule=ethane, return_wfn=True)\n",
        "psi4.molden(wfn,'ethane.molden')"
      ],
      "metadata": {
        "id": "iEa10YrmixzH"
      },
      "execution_count": 3,
      "outputs": []
    },
    {
      "cell_type": "code",
      "source": [
        "x = []\n",
        "y = []\n",
        "\n",
        "dihedrals = np.arange (0,360, 10)\n",
        "for d in dihedrals:\n",
        "    geometry = f\"\"\"\n",
        "    C\n",
        "    C 1 1.5307\n",
        "    H 1 1.0936 2 111.3578\n",
        "    H 1 1.0936 2 111.3578 3 120\n",
        "    H 1 1.0936 2 111.3578 3 240\n",
        "    H 2 1.0936 1 111.3578 3 {d}\n",
        "    H 2 1.0936 1 111.3578 3 {d+120}\n",
        "    H 2 1.0936 1 111.3578 3 {d+240}\n",
        "    \"\"\"\n",
        "\n",
        "    ethane = psi4.geometry(geometry)\n",
        "    E, wfn = psi4.energy('scf/6-31g',molecule=ethane, return_wfn=True)\n",
        "    print (d,E)\n",
        "    x.append(d)\n",
        "    y.append(E)"
      ],
      "metadata": {
        "colab": {
          "base_uri": "https://localhost:8080/"
        },
        "id": "phXje8O2izqn",
        "outputId": "eef75dc2-25e5-4663-98cd-cf2018cd7363"
      },
      "execution_count": 4,
      "outputs": [
        {
          "output_type": "stream",
          "name": "stdout",
          "text": [
            "0 -79.19262069603653\n",
            "10 -79.19293030491322\n",
            "20 -79.19377430694418\n",
            "30 -79.19492291730428\n",
            "40 -79.19606663092557\n",
            "50 -79.19690079979074\n",
            "60 -79.19720547168654\n",
            "70 -79.1969007997792\n",
            "80 -79.19606663095159\n",
            "90 -79.19492291728693\n",
            "100 -79.19377430698796\n",
            "110 -79.19293030489649\n",
            "120 -79.19262069599111\n",
            "130 -79.19293030488834\n",
            "140 -79.19377430698671\n",
            "150 -79.19492291735637\n",
            "160 -79.19606663093316\n",
            "170 -79.19690079975501\n",
            "180 -79.19720547164953\n",
            "190 -79.19690079984227\n",
            "200 -79.19606663094275\n",
            "210 -79.19492291729675\n",
            "220 -79.19377430695329\n",
            "230 -79.19293030490849\n",
            "240 -79.19262069598976\n",
            "250 -79.19293030489449\n",
            "260 -79.19377430699318\n",
            "270 -79.19492291734119\n",
            "280 -79.19606663092785\n",
            "290 -79.19690079976934\n",
            "300 -79.19720547169123\n",
            "310 -79.19690079975113\n",
            "320 -79.19606663091898\n",
            "330 -79.19492291733957\n",
            "340 -79.19377430702782\n",
            "350 -79.19293030487178\n"
          ]
        }
      ]
    },
    {
      "cell_type": "code",
      "source": [
        "from matplotlib import pyplot as plt\n",
        "\n",
        "plt.scatter(x,y)\n",
        "plt.title('ethane energy as a function of dihedral angle')\n",
        "plt.xlabel('dihedral angle')\n",
        "plt.ylabel('relative energy')\n",
        "plt.savefig('Ethane.png')\n"
      ],
      "metadata": {
        "id": "bQ7M4_QTi2nQ",
        "colab": {
          "base_uri": "https://localhost:8080/",
          "height": 487
        },
        "outputId": "c1048e53-911e-4798-d891-f67d577c2bfc"
      },
      "execution_count": 5,
      "outputs": [
        {
          "output_type": "display_data",
          "data": {
            "text/plain": [
              "<Figure size 640x480 with 1 Axes>"
            ],
            "image/png": "[encoded data removed]"
          },
          "metadata": {}
        }
      ]
    },
    {
      "cell_type": "code",
      "source": [
        "del_E = (max(y)-min(y)) * 627.509\n",
        "print(del_E)"
      ],
      "metadata": {
        "id": "wsBY8Jjoi6dX",
        "colab": {
          "base_uri": "https://localhost:8080/"
        },
        "outputId": "9236abec-fb5d-437c-d1c7-390bfb85f225"
      },
      "execution_count": 6,
      "outputs": [
        {
          "output_type": "stream",
          "name": "stdout",
          "text": [
            "2.8769880156563024\n"
          ]
        }
      ]
    },
    {
      "cell_type": "code",
      "source": [
        "# prompt: calculate equilibrium constant from difference in free energy\n",
        "\n",
        "import math\n",
        "\n",
        "# Assuming del_E is in kcal/mol and T is in Kelvin\n",
        "T = 298.15  # Standard room temperature\n",
        "R = 1.98720425864083e-3  # Gas constant in kcal/(mol*K)\n",
        "\n",
        "# Calculate the equilibrium constant\n",
        "K_eq = math.exp(-del_E / (R * T))\n",
        "\n",
        "print(\"Equilibrium constant (K_eq):\", K_eq)\n"
      ],
      "metadata": {
        "colab": {
          "base_uri": "https://localhost:8080/"
        },
        "id": "80ZFE7fi_yH-",
        "outputId": "b91b8f8e-911a-462c-b47b-013ee3d8fddf"
      },
      "execution_count": 7,
      "outputs": [
        {
          "output_type": "stream",
          "name": "stdout",
          "text": [
            "Equilibrium constant (K_eq): 0.007783109674663403\n"
          ]
        }
      ]
    },
    {
      "cell_type": "code",
      "source": [],
      "metadata": {
        "id": "IZGSfpFC5fbe"
      },
      "execution_count": null,
      "outputs": []
    }
  ]
}