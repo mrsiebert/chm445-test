{
  "nbformat": 4,
  "nbformat_minor": 0,
  "metadata": {
    "colab": {
      "provenance": [],
      "include_colab_link": true
    },
    "kernelspec": {
      "name": "python3",
      "display_name": "Python 3"
    },
    "language_info": {
      "name": "python"
    }
  },
  "cells": [
    {
      "cell_type": "markdown",
      "metadata": {
        "id": "view-in-github",
        "colab_type": "text"
      },
      "source": [
        "<a href=\"https://colab.research.google.com/github/mrsiebert/chm445-test/blob/main/Modeling_Lab.ipynb\" target=\"_parent\"><img src=\"https://colab.research.google.com/assets/colab-badge.svg\" alt=\"Open In Colab\"/></a>"
      ]
    },
    {
      "cell_type": "markdown",
      "source": [
        "#Molecular Modeling"
      ],
      "metadata": {
        "id": "bIAPIjpg9ylp"
      }
    },
    {
      "cell_type": "markdown",
      "source": [
        "## Introduction"
      ],
      "metadata": {
        "id": "jv9fM1qo9y1s"
      }
    },
    {
      "cell_type": "markdown",
      "source": [
        "Molecular modeling is an area of chemistry that uses computational chemistry to rationalize experimental data, provide mechanistic insights, and to relate molecular structure to reactivity. With improvements in computer software and hardware, chemists are able to predict and explain\n",
        "with increasing accuracy the properties of increasingly sophisticated molecules.\n",
        "\n",
        "The aim of the CHM 445 molecular modeling experiment is to provide deeper insight into the $\\textit{experimental}$ results generated and the concepts covered in the lab. The current chapter is devoted\n",
        "to exercises aimed at familiarizing you with the basic concepts of molecular modeling and providing practice in performing calculations. As the semester progresses, you will be required to perform similar calculations on your own in order to answer post-lab questions related to most laboratory experiments. It is thus in your interest to become confident and competent in using [Psi4](https://psicode.org/). You may find the [Psi4 manual](https://psicode.org/psi4manual/master/index.html) useful. The information and exercises contained within this chapter serve as an excellent resource."
      ],
      "metadata": {
        "id": "jp2KzdtB9-MM"
      }
    },
    {
      "cell_type": "markdown",
      "source": [
        "## Pre-lab Instructions"
      ],
      "metadata": {
        "id": "HKXsq0dg9y4V"
      }
    },
    {
      "cell_type": "markdown",
      "source": [
        "You must complete the pre-lab tasks detailed below. These tasks replace the typical pre-lab questions, reagent table, procedure notes, etc."
      ],
      "metadata": {
        "id": "IX8Nm9fZ9y63"
      }
    },
    {
      "cell_type": "markdown",
      "source": [
        "### Read sections before class"
      ],
      "metadata": {
        "id": "d_Pf0WUO9y9Z"
      }
    },
    {
      "cell_type": "markdown",
      "source": [
        "It is crucial that you are familiar with the background information provided before the lab sessions begin. The more familiar you are\n",
        "with Psi4, the more likely you are to successfully complete the computational experiments in a reasonable amount of time."
      ],
      "metadata": {
        "id": "7qtuUwdj9y_6"
      }
    },
    {
      "cell_type": "markdown",
      "source": [
        "### View the Psi4 lectures on Brightspace"
      ],
      "metadata": {
        "id": "Zn4P-imy9zCE"
      }
    },
    {
      "cell_type": "markdown",
      "source": [
        "Only by watching the video lectures and reading the prelab material will you understand how computational chemistry is used in the course and be\n",
        "ready to perform the necessary calculations."
      ],
      "metadata": {
        "id": "mzGYQl1n9zEi"
      }
    },
    {
      "cell_type": "markdown",
      "source": [
        "## Getting started with Google Colaboratory (Jupyter Notebooks) and Python\n",
        "\n"
      ],
      "metadata": {
        "id": "xW0hbCgt9zGx"
      }
    },
    {
      "cell_type": "markdown",
      "source": [
        "Google Colaboratry (a form of Jupyter Notebooks) and Python have had a significant impact on computational chemistry by making powerful computational tools more accessible, customizable, and user-friendly. Here's how they've revolutionized the field:"
      ],
      "metadata": {
        "id": "dEJLknHVd1XR"
      }
    },
    {
      "cell_type": "markdown",
      "source": [
        "### Accessibility and Usability"
      ],
      "metadata": {
        "id": "p8_Wzjj7d1Zy"
      }
    },
    {
      "cell_type": "markdown",
      "source": [
        "Jupyter Notebooks provide an interactive environment where users can write and execute code in real-time. This allows chemists to run simulations, analyze data, and visualize results in one place, making it easier to explore and experiment with computational models.\n",
        "\n",
        "Jupyter’s support for combining code, text, and equations in a single document is ideal for computational chemistry. Researchers can explain their methods, annotate their code, and include LaTeX-formatted chemical equations, all in the same document.\n",
        "\n",
        "Lastly, jupyter notebooks utilizing python are open-source that run on various platforms (Windows, macOS, Linux). This means computational chemistry scripts and notebooks can be shared and run on different systems without compatibility issues."
      ],
      "metadata": {
        "id": "S7-mM6YTd1cC"
      }
    },
    {
      "cell_type": "markdown",
      "source": [
        "### Powerful Libraries and Tools"
      ],
      "metadata": {
        "id": "gHWk6V_sd1eL"
      }
    },
    {
      "cell_type": "markdown",
      "source": [
        "Python has a rich ecosystem of libraries for computational chemistry. Some that we will use include:\n",
        " - RDKit: For cheminformatics and molecular modeling.\n",
        " - ASE (Atomic Simulation Environment): For setting up, manipulating, and analyzing atomic simulations.\n",
        " - Psi4: An open-source quantum chemistry software package for ab initio calculations.\n",
        " - NumPy: Supports use of large, multi-dimensional arrays and matrices, along with a large collection of high-level mathematical functions to operate on these arrays.\n",
        " - Pandas: Support for working with data sets. It has functions for analyzing, cleaning, exploring, and manipulating data.\n",
        " - Matplotlib: A comprehensive library for creating static, animated, and interactive visualizations in Python. Matplotlib makes easy things easy and hard things possible. Create publication quality plots. Make interactive figures that can zoom, pan, update."
      ],
      "metadata": {
        "id": "xFPHF47ieYPh"
      }
    },
    {
      "cell_type": "markdown",
      "source": [
        "### Overall Impact of Jupyter Notebooks/Google Colaboratory with Python"
      ],
      "metadata": {
        "id": "2jGL6nP8eYRz"
      }
    },
    {
      "cell_type": "markdown",
      "source": [
        "Overall, Jupyter Notebooks and Python have transformed computational chemistry by providing a versatile, accessible, and powerful platform for conducting, sharing, and teaching complex computational work. They enable a wide range of researchers, from students to professionals, to engage in computational chemistry more effectively and collaboratively."
      ],
      "metadata": {
        "id": "SCgSL939eYT4"
      }
    },
    {
      "cell_type": "markdown",
      "source": [
        "## Common Job Types\n"
      ],
      "metadata": {
        "id": "dXUOlpHk9zLt"
      }
    },
    {
      "cell_type": "markdown",
      "source": [
        "### Energy Determination"
      ],
      "metadata": {
        "id": "U-u6YsJFXXMc"
      }
    },
    {
      "cell_type": "markdown",
      "source": [
        "Calculates the optimized molecular orbitals, by determining the combination of atomic orbitals that allows for the lowest energy electron configuration."
      ],
      "metadata": {
        "id": "5CweUAD8XaD1"
      }
    },
    {
      "cell_type": "markdown",
      "source": [
        "### Geometry Optimization"
      ],
      "metadata": {
        "id": "O6-SWUYz9zOX"
      }
    },
    {
      "cell_type": "markdown",
      "source": [
        "Calculates an optimized, energy-minimized geometry or structure for\n",
        "an input geometry or structure. In each step of a geometry optimization, an energy determination calculation is completed."
      ],
      "metadata": {
        "id": "XRavAZk89zRO"
      }
    },
    {
      "cell_type": "markdown",
      "source": [
        "### Vibrational Frequencies"
      ],
      "metadata": {
        "id": "tOlh671j9zUO"
      }
    },
    {
      "cell_type": "markdown",
      "source": [
        "Calculates the infrared and Raman vibrational frequencies of a molecule. The vibrational modes also offer insight into the structure optimized in a geometry optimization step."
      ],
      "metadata": {
        "id": "BC5kEU4AXRqz"
      }
    },
    {
      "cell_type": "markdown",
      "source": [
        "### Opt+Freq"
      ],
      "metadata": {
        "id": "9BqPor2PXRtH"
      }
    },
    {
      "cell_type": "markdown",
      "source": [
        "Calculates the optimized geometry and the vibrational frequency for a\n",
        "molecule in one combined job of the previous two job types. This will be your most common job type."
      ],
      "metadata": {
        "id": "lX5ti9b7XRvW"
      }
    },
    {
      "cell_type": "markdown",
      "source": [
        "### NMR"
      ],
      "metadata": {
        "id": "WjHLE9QXXRxv"
      }
    },
    {
      "cell_type": "markdown",
      "source": [
        "Calculates the chemical shifts of the atoms in an input geometry. The $^1$H and $^{13}$C NMR chemical shift values are calculated relative to TMS."
      ],
      "metadata": {
        "id": "WSxnSRGZXR0D"
      }
    },
    {
      "cell_type": "markdown",
      "source": [
        "### Coordinate Scan\n",
        "\n"
      ],
      "metadata": {
        "id": "_yohr17wXR2S"
      }
    },
    {
      "cell_type": "markdown",
      "source": [
        "Generates the molecular orbitals, electron density, atomic charges, and the natural hybrid and bond orbitals of a molecule using NBO 6.0, a program developed by UW-Madison theoretical chemist Prof. Frank Weinhold. NBO displays the orbitals in a clear, user-friendly manner."
      ],
      "metadata": {
        "id": "CXZjStILXR4p"
      }
    },
    {
      "cell_type": "markdown",
      "source": [
        "### Transition State Structure (TSS) Optimization"
      ],
      "metadata": {
        "id": "ROkBEh5dXR6_"
      }
    },
    {
      "cell_type": "markdown",
      "source": [
        "Calculates an optimized geometry for a molecular structure that\n",
        "possesses exactly one negative (imaginary) vibrational mode. Such a molecule represents a transition state (an energy maximum on the potential energy surface or reaction coordinate diagram)."
      ],
      "metadata": {
        "id": "xIkIPFWnXR9P"
      }
    },
    {
      "cell_type": "markdown",
      "source": [
        "## Model Chemistry"
      ],
      "metadata": {
        "id": "1wIHgo7vXR_g"
      }
    },
    {
      "cell_type": "markdown",
      "source": [
        "In computational chemistry, the phrase \"model chemistry\" refers to a specific combination of methods and approximations used to calculate the electronic structure and properties of molecules. It defines the theoretical framework chosen to represent a chemical system computationally, balancing accuracy and computational cost. Key elements of model chemistry include:\n",
        "\n",
        "    "
      ],
      "metadata": {
        "id": "eUW5jeksZKg1"
      }
    },
    {
      "cell_type": "markdown",
      "source": [
        "### Level of Theory"
      ],
      "metadata": {
        "id": "zVNOQHdBZP5C"
      }
    },
    {
      "cell_type": "markdown",
      "source": [
        "\"Level of theory\" refers to the specific method or combination of methods used to approximate the quantum mechanical behavior of a chemical system. It defines the mathematical framework chosen to describe the electronic structure and properties of molecules.\n",
        "\n",
        "A basic quantum mechanical method that approximates the behavior of electrons using the mean field approach is known as Hartree-Fock (HF).\n",
        "\n",
        "Post-Hartree-Fock Methods: These include more sophisticated and accurate methods like Møller-Plesset perturbation theory (MP2), coupled-cluster theory (CC), and configuration interaction (CI), which go beyond Hartree-Fock by considering electron correlation explicitly.\n",
        "\n",
        "In recent years, popular methods known as Density Functional Theory (DFT)methods use electron density rather than wavefunctions to calculate molecular properties. DFT methods often providing a good balance between accuracy and computational efficiency. Popular DFT methods include B3LYP, BP86, and M06-2X.\n",
        "\n"
      ],
      "metadata": {
        "id": "eWg3E2i0ZV0e"
      }
    },
    {
      "cell_type": "markdown",
      "source": [
        "### Basis Set"
      ],
      "metadata": {
        "id": "NmcLohvvasce"
      }
    },
    {
      "cell_type": "markdown",
      "source": [
        "A basis set is a collection of mathematical functions used to approximate atomic orbitals. These surrogate orbitals are easier to compute and are used to describe the molecular orbitals in a quantum chemical calculation. Choosing a basis set involves a trade-off between computational cost and the accuracy of the molecular description.\n",
        "\n",
        "Examples of common basis sets include minimal basis sets (like STO-3G), split-valence basis sets (like 6-31G), and correlation-consistent basis sets (like cc-pVDZ or aug-cc-pVTZ)."
      ],
      "metadata": {
        "id": "jPQ6OHEQasep"
      }
    },
    {
      "cell_type": "markdown",
      "source": [
        "### Other Aspects of Model Chemistry"
      ],
      "metadata": {
        "id": "nsiPEansbGbP"
      }
    },
    {
      "cell_type": "markdown",
      "source": [
        "Other aspects included in model chemistry include: incorporation of solvent, emperical corrections (experimental corrections added to improve accuracy), etc."
      ],
      "metadata": {
        "id": "qhzIwmgkbGds"
      }
    },
    {
      "cell_type": "markdown",
      "source": [
        "### Why is Model Chemistry Important?"
      ],
      "metadata": {
        "id": "a1Z4YYFlba6g"
      }
    },
    {
      "cell_type": "markdown",
      "source": [
        "Model chemistry is akin to the experimental parameters in a typical wet-chemistry experiment, e.g., specific rotation in polarimetry is reported when using the sodium D line. The wavelength of the sodium D line is 589 nm. If you are looking to reproduce specific rotation measurements, you need to utilize this wavelength of light.\n",
        "\n",
        "The model chemistry represents the specific trade-off between accuracy and computational cost: The choice of model chemistry is crucial because it determines the accuracy of the results and the computational resources required. For example, while a higher level of theory like coupled-cluster methods can give highly accurate results, it is also much more computationally expensive than DFT or Hartree-Fock.\n",
        "\n",
        "Lastly, different model chemistries are better suited for different types of problems. For instance, highly accurate methods like CCSD(T) might be necessary for small molecules or benchmark calculations, while DFT may be more appropriate for large systems like biomolecules or materials, where computational cost is a concern."
      ],
      "metadata": {
        "id": "tKAyIJynba_y"
      }
    },
    {
      "cell_type": "markdown",
      "source": [
        "### Examples of Common Model Chemistries"
      ],
      "metadata": {
        "id": "cmTnj5RocoRT"
      }
    },
    {
      "cell_type": "markdown",
      "source": [
        "HF/6-31G: Hartree-Fock method with the 6-31G basis set, often used for basic quantum chemistry calculations.\n",
        "\n",
        "B3LYP/6-31G(d): A popular model chemistry combining the B3LYP functional (a hybrid DFT method) with the 6-31G(d) basis set. Widely used for organic molecules and reaction mechanisms.\n",
        "\n",
        "MP2/cc-pVTZ: Møller-Plesset perturbation theory (second-order) with the correlation-consistent polarized valence triple-zeta basis set, used for more accurate calculations involving electron correlation."
      ],
      "metadata": {
        "id": "SHiM4D2QcoTq"
      }
    },
    {
      "cell_type": "markdown",
      "source": [
        "### Conclusions About Model Chemistry"
      ],
      "metadata": {
        "id": "qWx_TPQcZ4Rw"
      }
    },
    {
      "cell_type": "markdown",
      "source": [
        "The phrase \"model chemistry\" in computational chemistry encapsulates the theoretical and practical choices made in a computational study. It combines the method (e.g., DFT, MP2), basis set, and any additional corrections or assumptions to form a computational approach tailored to the specific problem being studied. The goal is to achieve a balance between accuracy and computational feasibility appropriate to the chemical question at hand."
      ],
      "metadata": {
        "id": "IaDGtL4vc5LK"
      }
    },
    {
      "cell_type": "markdown",
      "source": [
        "## Investigations of Different Types of Calculations"
      ],
      "metadata": {
        "id": "8juLWskBXSEK"
      }
    },
    {
      "cell_type": "markdown",
      "source": [
        "### Coordinate Scan to Reproduce a Familiar Conformational Analysis"
      ],
      "metadata": {
        "id": "STyGoReAXSGm"
      }
    },
    {
      "cell_type": "markdown",
      "source": [
        "We will start by determining (more rigorously than we ever have in the past), the conformational analysis of ethane.\n",
        "\n",
        "Start by running the code-cell shown below by either: 1) selecting the cell and hitting shift-enter, or by pushing the play button that appears when you hover over the \"[ ]\". Note: it will take approximately xx seconds to run and will tell you that your session crashed (a session reboot is included in the code and is required for the installation to succeed). Fortunately, you won't need to rerun this unless your \"runtime\" becomes disconnected (usually due to inactivity)."
      ],
      "metadata": {
        "id": "GqGGRsLGXSI-"
      }
    },
    {
      "cell_type": "code",
      "source": [
        "!pip install -q condacolab # This installs a package known as Condalab\n",
        "# Condalab allows us to easily install psi4\n",
        "!pip install py3Dmol\n",
        "import py3Dmol\n",
        "import condacolab\n",
        "condacolab.install()\n"
      ],
      "metadata": {
        "colab": {
          "base_uri": "https://localhost:8080/"
        },
        "id": "IKTXrQnIXQlg",
        "outputId": "78948361-9640-4bcc-a1c5-8a7b1a2c56d2"
      },
      "execution_count": 14,
      "outputs": [
        {
          "output_type": "stream",
          "name": "stdout",
          "text": [
            "Requirement already satisfied: py3Dmol in /usr/local/lib/python3.10/site-packages (2.3.0)\n",
            "✨🍰✨ Everything looks OK!\n"
          ]
        }
      ]
    },
    {
      "cell_type": "markdown",
      "source": [
        "Now we will import some libraries and install some other important packages, including Psi4. (Run the cell below) Note: it will take approximately 2 minutes to run. Fortunately, you won't need to rerun this unless your \"runtime\" becomes disconnected (usually due to inactivity)."
      ],
      "metadata": {
        "id": "hZOdS8lMh3h1"
      }
    },
    {
      "cell_type": "code",
      "source": [
        "import subprocess\n",
        "import sys\n",
        "subprocess.run(\"rm -rf /usr/local/conda-meta/pinned\", shell=True)\n",
        "subprocess.run(\"pip -q install py3Dmol\", shell=True)\n",
        "subprocess.run(\"!mamba install -c anaconda intel-openmp\", shell=True)\n",
        "subprocess.run(\"conda config --add channels http://conda.anaconda.org/psi4\", shell=True)\n",
        "subprocess.run(\"mamba install psi4 resp -c conda-forge/label/libint_dev -c conda-forge\", shell=True)\n",
        "subprocess.run(\"pip install rdkit-pypi\", shell=True)\n",
        "subprocess.run(\"pip install Cython\", shell=True)\n",
        "subprocess.run(\"mamba install -c conda-forge parmed -y\", shell=True)\n",
        "subprocess.run(\"mamba install -c conda-forge openbabel -y\", shell=True)\n",
        "\n",
        "import os\n",
        "import psi4\n",
        "import numpy as np\n",
        "import resp\n",
        "import openbabel as ob\n",
        "from rdkit import Chem\n",
        "from rdkit.Chem import AllChem"
      ],
      "metadata": {
        "id": "kjD5ZdpJhsSi"
      },
      "execution_count": 31,
      "outputs": []
    },
    {
      "cell_type": "markdown",
      "source": [
        "Now we will import a library that allows for interactive display of molecules (run the cell below). Note: It will take approximately xxx seconds to run."
      ],
      "metadata": {
        "id": "XZCHVfaO2Fgj"
      }
    },
    {
      "cell_type": "code",
      "source": [
        "try:\n",
        "  import py3Dmol\n",
        "except:\n",
        "  !pip install py3Dmol\n",
        "  import py3Dmol"
      ],
      "metadata": {
        "id": "BnFIhB2VjvKH"
      },
      "execution_count": 26,
      "outputs": []
    },
    {
      "cell_type": "markdown",
      "source": [
        "We will now define our desired geometry (run the cell below)."
      ],
      "metadata": {
        "id": "FpnFCz6Zi0AX"
      }
    },
    {
      "cell_type": "code",
      "source": [
        "geometry = \"\"\"\n",
        "C\n",
        "C 1 1.5307\n",
        "H 1 1.0936 2 111.3578\n",
        "H 1 1.0936 2 111.3578 3 120\n",
        "H 1 1.0936 2 111.3578 3 240\n",
        "H 2 1.0936 1 111.3578 3 60\n",
        "H 2 1.0936 1 111.3578 3 180\n",
        "H 2 1.0936 1 111.3578 3 300\n",
        "\"\"\""
      ],
      "metadata": {
        "id": "J5yR1dbxiBBv"
      },
      "execution_count": 32,
      "outputs": []
    },
    {
      "cell_type": "markdown",
      "source": [
        "and we will create a Psi4 ethane \"object\" (run the cell below), run an energy calculation at the HF (SCF)/6-31G level of theory, and save that output to a file titled \"ethane.molden\"."
      ],
      "metadata": {
        "id": "hCHSvaAMjBA5"
      }
    },
    {
      "cell_type": "code",
      "source": [
        "ethane = psi4.geometry(geometry)\n",
        "E, wfn = psi4.energy('scf/6-31g',molecule=ethane, return_wfn=True)\n",
        "psi4.molden(wfn,'ethane.molden')\n",
        "ethane.save_xyz_file('ethane.xyz',0)"
      ],
      "metadata": {
        "id": "4-k2ZRgYjAER"
      },
      "execution_count": 66,
      "outputs": []
    },
    {
      "cell_type": "markdown",
      "source": [
        "Let's visualize the output of the above calculation in an interactive fashion (run the cell below). Note that you can click and drag to rotate the molecule. What other mouse inputs affect the molecule?"
      ],
      "metadata": {
        "id": "v86F3-s72Wt9"
      }
    },
    {
      "cell_type": "code",
      "source": [
        "view = py3Dmol.view()\n",
        "view.addModel(open('ethane.xyz', 'r').read(),'xyz')\n",
        "view.setBackgroundColor('white')\n",
        "view.setStyle({'stick':{'radius' : 0.2}, 'sphere':{'scale' : 0.3}})\n",
        "view.zoomTo()\n",
        "view.show()"
      ],
      "metadata": {
        "colab": {
          "base_uri": "https://localhost:8080/",
          "height": 517
        },
        "id": "0kgKSFZBi-hP",
        "outputId": "293c5f12-42e8-49a8-fdce-726b89d6b3dd"
      },
      "execution_count": 140,
      "outputs": [
        {
          "output_type": "display_data",
          "data": {
            "application/3dmoljs_load.v0": "<div id=\"3dmolviewer_1724783335058819\"  style=\"position: relative; width: 640px; height: 480px;\">\n        <p id=\"3dmolwarning_1724783335058819\" style=\"background-color:#ffcccc;color:black\">3Dmol.js failed to load for some reason.  Please check your browser console for error messages.<br></p>\n        </div>\n<script>\n\nvar loadScriptAsync = function(uri){\n  return new Promise((resolve, reject) => {\n    //this is to ignore the existence of requirejs amd\n    var savedexports, savedmodule;\n    if (typeof exports !== 'undefined') savedexports = exports;\n    else exports = {}\n    if (typeof module !== 'undefined') savedmodule = module;\n    else module = {}\n\n    var tag = document.createElement('script');\n    tag.src = uri;\n    tag.async = true;\n    tag.onload = () => {\n        exports = savedexports;\n        module = savedmodule;\n        resolve();\n    };\n  var firstScriptTag = document.getElementsByTagName('script')[0];\n  firstScriptTag.parentNode.insertBefore(tag, firstScriptTag);\n});\n};\n\nif(typeof $3Dmolpromise === 'undefined') {\n$3Dmolpromise = null;\n  $3Dmolpromise = loadScriptAsync('https://cdnjs.cloudflare.com/ajax/libs/3Dmol/2.3.0/3Dmol-min.js');\n}\n\nvar viewer_1724783335058819 = null;\nvar warn = document.getElementById(\"3dmolwarning_1724783335058819\");\nif(warn) {\n    warn.parentNode.removeChild(warn);\n}\n$3Dmolpromise.then(function() {\nviewer_1724783335058819 = $3Dmol.createViewer(document.getElementById(\"3dmolviewer_1724783335058819\"),{backgroundColor:\"white\"});\nviewer_1724783335058819.zoomTo();\n\tviewer_1724783335058819.addModel(\"8\\n\\n C    0.000000000000   -0.765350000000    0.000000000000\\n C    0.000000000000    0.765350000000    0.000000000000\\n H   -0.509248130310   -1.163629207472    0.882043635356\\n H   -0.509248130310   -1.163629207472   -0.882043635356\\n H    1.018496260619   -1.163629207472    0.000000000000\\n H    0.509248130310    1.163629207472    0.882043635356\\n H    0.509248130310    1.163629207472   -0.882043635356\\n H   -1.018496260619    1.163629207472    0.000000000000\\n\",\"xyz\");\n\tviewer_1724783335058819.setBackgroundColor(\"white\");\n\tviewer_1724783335058819.setStyle({\"stick\": {\"radius\": 0.2}, \"sphere\": {\"scale\": 0.3}});\n\tviewer_1724783335058819.zoomTo();\nviewer_1724783335058819.render();\n});\n</script>",
            "text/html": [
              "<div id=\"3dmolviewer_1724783335058819\"  style=\"position: relative; width: 640px; height: 480px;\">\n",
              "        <p id=\"3dmolwarning_1724783335058819\" style=\"background-color:#ffcccc;color:black\">3Dmol.js failed to load for some reason.  Please check your browser console for error messages.<br></p>\n",
              "        </div>\n",
              "<script>\n",
              "\n",
              "var loadScriptAsync = function(uri){\n",
              "  return new Promise((resolve, reject) => {\n",
              "    //this is to ignore the existence of requirejs amd\n",
              "    var savedexports, savedmodule;\n",
              "    if (typeof exports !== 'undefined') savedexports = exports;\n",
              "    else exports = {}\n",
              "    if (typeof module !== 'undefined') savedmodule = module;\n",
              "    else module = {}\n",
              "\n",
              "    var tag = document.createElement('script');\n",
              "    tag.src = uri;\n",
              "    tag.async = true;\n",
              "    tag.onload = () => {\n",
              "        exports = savedexports;\n",
              "        module = savedmodule;\n",
              "        resolve();\n",
              "    };\n",
              "  var firstScriptTag = document.getElementsByTagName('script')[0];\n",
              "  firstScriptTag.parentNode.insertBefore(tag, firstScriptTag);\n",
              "});\n",
              "};\n",
              "\n",
              "if(typeof $3Dmolpromise === 'undefined') {\n",
              "$3Dmolpromise = null;\n",
              "  $3Dmolpromise = loadScriptAsync('https://cdnjs.cloudflare.com/ajax/libs/3Dmol/2.3.0/3Dmol-min.js');\n",
              "}\n",
              "\n",
              "var viewer_1724783335058819 = null;\n",
              "var warn = document.getElementById(\"3dmolwarning_1724783335058819\");\n",
              "if(warn) {\n",
              "    warn.parentNode.removeChild(warn);\n",
              "}\n",
              "$3Dmolpromise.then(function() {\n",
              "viewer_1724783335058819 = $3Dmol.createViewer(document.getElementById(\"3dmolviewer_1724783335058819\"),{backgroundColor:\"white\"});\n",
              "viewer_1724783335058819.zoomTo();\n",
              "\tviewer_1724783335058819.addModel(\"8\\n\\n C    0.000000000000   -0.765350000000    0.000000000000\\n C    0.000000000000    0.765350000000    0.000000000000\\n H   -0.509248130310   -1.163629207472    0.882043635356\\n H   -0.509248130310   -1.163629207472   -0.882043635356\\n H    1.018496260619   -1.163629207472    0.000000000000\\n H    0.509248130310    1.163629207472    0.882043635356\\n H    0.509248130310    1.163629207472   -0.882043635356\\n H   -1.018496260619    1.163629207472    0.000000000000\\n\",\"xyz\");\n",
              "\tviewer_1724783335058819.setBackgroundColor(\"white\");\n",
              "\tviewer_1724783335058819.setStyle({\"stick\": {\"radius\": 0.2}, \"sphere\": {\"scale\": 0.3}});\n",
              "\tviewer_1724783335058819.zoomTo();\n",
              "viewer_1724783335058819.render();\n",
              "});\n",
              "</script>"
            ]
          },
          "metadata": {}
        }
      ]
    },
    {
      "cell_type": "markdown",
      "source": [
        "Next we will carry out our coordinate scan. We are doing this by manually changing the H-C-C-H dihedral angle that rotates one methyl group relative to the other. When you run the cell below you will see that a dihedral angle and associated energy is printed."
      ],
      "metadata": {
        "id": "krbYaSRX27m7"
      }
    },
    {
      "cell_type": "code",
      "source": [
        "x = []\n",
        "y = []\n",
        "\n",
        "dihedrals = np.arange (0,370, 10)\n",
        "for d in dihedrals:\n",
        "    geometry = f\"\"\"\n",
        "    C\n",
        "    C 1 1.5307\n",
        "    H 1 1.0936 2 111.3578\n",
        "    H 1 1.0936 2 111.3578 3 120\n",
        "    H 1 1.0936 2 111.3578 3 240\n",
        "    H 2 1.0936 1 111.3578 3 {d}\n",
        "    H 2 1.0936 1 111.3578 3 {d+120}\n",
        "    H 2 1.0936 1 111.3578 3 {d+240}\n",
        "    \"\"\"\n",
        "\n",
        "    ethane = psi4.geometry(geometry)\n",
        "    E, wfn = psi4.energy('scf/6-31g',molecule=ethane, return_wfn=True)\n",
        "    print (d,E)\n",
        "    x.append(d)\n",
        "    y.append(E)"
      ],
      "metadata": {
        "colab": {
          "base_uri": "https://localhost:8080/"
        },
        "id": "6AdP6wu9p9c1",
        "outputId": "03a8543d-5dda-491c-e1c6-9eb86f191506"
      },
      "execution_count": 129,
      "outputs": [
        {
          "output_type": "stream",
          "name": "stdout",
          "text": [
            "0 -79.19262069602269\n",
            "10 -79.19293030488232\n",
            "20 -79.19377430694418\n",
            "30 -79.19492291729526\n",
            "40 -79.19606663092557\n",
            "50 -79.19690079979074\n",
            "60 -79.19720547168654\n",
            "70 -79.19690079979014\n",
            "80 -79.1960666309286\n",
            "90 -79.19492291728693\n",
            "100 -79.19377430699474\n",
            "110 -79.19293030488767\n",
            "120 -79.19262069599111\n",
            "130 -79.19293030487879\n",
            "140 -79.19377430698671\n",
            "150 -79.19492291735637\n",
            "160 -79.19606663093316\n",
            "170 -79.19690079975501\n",
            "180 -79.19720547164953\n",
            "190 -79.19690079981375\n",
            "200 -79.19606663094275\n",
            "210 -79.19492291729675\n",
            "220 -79.1937743069672\n",
            "230 -79.19293030490648\n",
            "240 -79.19262069602202\n",
            "250 -79.1929303048863\n",
            "260 -79.19377430695423\n",
            "270 -79.19492291732767\n",
            "280 -79.19606663095226\n",
            "290 -79.19690079978582\n",
            "300 -79.19720547166708\n",
            "310 -79.19690079976344\n",
            "320 -79.1960666309124\n",
            "330 -79.19492291732593\n",
            "340 -79.19377430698918\n",
            "350 -79.19293030488254\n",
            "360 -79.19262069601253\n"
          ]
        }
      ]
    },
    {
      "cell_type": "markdown",
      "source": [
        "Now we are going to plot the energy as a function of dihedral angle. I am also going to run a couple of other commands to put the energy in more understandable units (kcal/mol) and plot a smooth curve that fits the set of points above."
      ],
      "metadata": {
        "id": "7cXQvtAy_kg-"
      }
    },
    {
      "cell_type": "code",
      "source": [
        "from matplotlib import pyplot as plt\n",
        "from scipy.interpolate import make_interp_spline, BSpline\n",
        "\n",
        "new_y = []\n",
        "for i in y:\n",
        "  new_y.append(627.51*(i-min(y)))\n",
        "\n",
        "xnew = np.linspace(min(x), max(x), 300)\n",
        "spl = make_interp_spline(x, new_y, k=3)  # type: BSpline\n",
        "power_smooth = spl(xnew)\n",
        "plt.plot(xnew, power_smooth, color='red', label=\"smooth energy function\")\n",
        "plt.scatter(x,new_y, label=\"energy values calculated above\")\n",
        "plt.legend(loc='lower center', bbox_to_anchor=(0.5, -0.25),\n",
        "          ncol=3, fancybox=True, shadow=True)\n",
        "plt.title('ethane energy as a function of dihedral angle')\n",
        "plt.xlabel('dihedral angle')\n",
        "plt.ylabel('relative energy [kcal/mol]')\n",
        "plt.savefig('ethane_dihedral_energy.png', bbox_inches='tight')"
      ],
      "metadata": {
        "colab": {
          "base_uri": "https://localhost:8080/",
          "height": 534
        },
        "id": "4NNaDv4K235Q",
        "outputId": "9d1fa7d0-7eb1-4085-f309-0757a3487848"
      },
      "execution_count": 143,
      "outputs": [
        {
          "output_type": "display_data",
          "data": {
            "text/plain": [
              "<Figure size 640x480 with 1 Axes>"
            ],
            "image/png": "[encoded data removed]"
          },
          "metadata": {}
        }
      ]
    },
    {
      "cell_type": "markdown",
      "source": [
        "Note that the code above saved this figure as \"Ethane.png\" into your folder. This figure could be downloaded and incorporated into, e.g., a lab report, journal manuscript, or powerpoint presentation.ethane_dihedral_energy.png"
      ],
      "metadata": {
        "id": "P6tuO1Ce_y6p"
      }
    },
    {
      "cell_type": "code",
      "source": [],
      "metadata": {
        "id": "-2H1rLaB9A6D"
      },
      "execution_count": null,
      "outputs": []
    },
    {
      "cell_type": "markdown",
      "source": [
        "### Coordinate Scan to Determine Conjugation Energy"
      ],
      "metadata": {
        "id": "l8IE3WjSBI6H"
      }
    },
    {
      "cell_type": "markdown",
      "source": [
        "Now we will utilize what we just learned to map the energy profile when we rotate around a central C-C bond between two $\\pi$-bonds using a molecule of acrolein (pronounce a-kruh-leen).\n",
        "\n"
      ],
      "metadata": {
        "id": "wYhsuC0zBZgh"
      }
    },
    {
      "cell_type": "markdown",
      "source": [
        "First, we will import a library and set some functions that will help us get geometry files for structures from a helpful database: [Pubchem](https://pubchem.ncbi.nlm.nih.gov/)."
      ],
      "metadata": {
        "id": "8SBpmB-NB_C0"
      }
    },
    {
      "cell_type": "code",
      "source": [
        "!pip install pubchempy # Install interface to PubChem (https://pubchem.ncbi.nlm.nih.gov/) a huge repository of chemical compounds and associated data\n",
        "import pubchempy as pcp # import the PubChem interface"
      ],
      "metadata": {
        "colab": {
          "base_uri": "https://localhost:8080/"
        },
        "id": "aRqxGiZ1CpSO",
        "outputId": "059b4b1d-2a05-442f-a37d-fdf7a1273497"
      },
      "execution_count": 124,
      "outputs": [
        {
          "output_type": "stream",
          "name": "stdout",
          "text": [
            "Collecting pubchempy\n",
            "  Downloading PubChemPy-1.0.4.tar.gz (29 kB)\n",
            "  Preparing metadata (setup.py) ... \u001b[?25l\u001b[?25hdone\n",
            "Building wheels for collected packages: pubchempy\n",
            "  Building wheel for pubchempy (setup.py) ... \u001b[?25l\u001b[?25hdone\n",
            "  Created wheel for pubchempy: filename=PubChemPy-1.0.4-py3-none-any.whl size=13819 sha256=1631e5eadaf5a3ef9a7413a0bdba35e845206187f7dd4d6f9869203346744d26\n",
            "  Stored in directory: /root/.cache/pip/wheels/90/7c/45/18a0671e3c3316966ef7ed9ad2b3f3300a7e41d3421a44e799\n",
            "Successfully built pubchempy\n",
            "Installing collected packages: pubchempy\n",
            "Successfully installed pubchempy-1.0.4\n"
          ]
        }
      ]
    },
    {
      "cell_type": "code",
      "source": [
        "def search_pubchem(compound: str) -> int: # This function searches PubChem for a record based upon a name\n",
        "    \"\"\"Search PubChem for a given compound and return its CID.\"\"\"\n",
        "    try:\n",
        "        result = pcp.get_compounds(compound, 'name', record_type='3d')[0]\n",
        "        return result.cid\n",
        "    except (IndexError, pcp.PubChemHTTPError) as e:\n",
        "        print(f\"Error searching PubChem for {compound}: {e}\")\n",
        "        return None"
      ],
      "metadata": {
        "id": "MRK4aksMCs2L"
      },
      "execution_count": 125,
      "outputs": []
    },
    {
      "cell_type": "code",
      "source": [
        "def get_cart(name): # This function retrieves data from PubChem and formats Cartesian coordinates for running quantum chemical calculations\n",
        "    cid = search_pubchem(name)\n",
        "    compound = pcp.Compound.from_cid(cid, record_type='3d')\n",
        "    dict = compound.to_dict(properties=['atoms'])\n",
        "    cart_str = \"\"\n",
        "    for counter in range(len(compound.elements)):\n",
        "        element = str(dict['atoms'][counter]['element'])\n",
        "        x_pos = dict['atoms'][counter]['x']\n",
        "        y_pos = dict['atoms'][counter]['y']\n",
        "        z_pos = dict['atoms'][counter]['z']\n",
        "        cart_str = cart_str + ( \"%s %12.6f %12.6f %12.6f\\n\" % ( element, x_pos, y_pos, z_pos ) )\n",
        "    return cart_str"
      ],
      "metadata": {
        "id": "2jQ0IlMqCs40"
      },
      "execution_count": 126,
      "outputs": []
    },
    {
      "cell_type": "markdown",
      "source": [
        "First we define our compounds name (IUPAC names work great, you can also visit the [Pubchem database](https://pubchem.ncbi.nlm.nih.gov/) and search for the compound there and use the official name). Once we are sure we have a good name, we pass that to a function I wrote (\"get_cart\") that takes the name to Pubchem and retreives the coordinates for us automatically."
      ],
      "metadata": {
        "id": "jI_XhHlKBZit"
      }
    },
    {
      "cell_type": "code",
      "source": [
        "name = 'acrolein'\n",
        "coords = get_cart(name)"
      ],
      "metadata": {
        "id": "BOhl2WL3Crvb"
      },
      "execution_count": 127,
      "outputs": []
    },
    {
      "cell_type": "code",
      "source": [
        "print(coords)"
      ],
      "metadata": {
        "colab": {
          "base_uri": "https://localhost:8080/"
        },
        "id": "Pe1PlTSEC7Po",
        "outputId": "03731539-5474-4d62-a234-5d007d865a43"
      },
      "execution_count": 128,
      "outputs": [
        {
          "output_type": "stream",
          "name": "stdout",
          "text": [
            "O    -1.747800    -0.116500    -0.000200\n",
            "C     0.593600    -0.436300     0.000200\n",
            "C    -0.630300     0.385600     0.000200\n",
            "C     1.784400     0.167200    -0.000200\n",
            "H     0.497200    -1.514800     0.000300\n",
            "H    -0.484900     1.478800     0.000200\n",
            "H     2.693900    -0.424300    -0.000200\n",
            "H     1.887200     1.246900    -0.000400\n",
            "\n"
          ]
        }
      ]
    },
    {
      "cell_type": "code",
      "source": [
        "    geometry = \"\"\"\n",
        "    C\n",
        "    C 1 1.3340\n",
        "    C 2 1.4753 1 121.2790\n",
        "    O 3 1.2086 2 124.2990 1 180.0\n",
        "    H 1 1.0865 2 120.9669 3 0.000\n",
        "    H 1 1.0835 2 122.2566 3 180.0\n",
        "    H 2 1.0856 3 116.3009 4 0.000\n",
        "    H 3 1.1130 2 114.4828 1 0.000\n",
        "    \"\"\""
      ],
      "metadata": {
        "id": "zsE3T2NTEM3H"
      },
      "execution_count": 137,
      "outputs": []
    },
    {
      "cell_type": "code",
      "source": [
        "acrolein = psi4.geometry(geometry)\n",
        "E, wfn = psi4.energy('scf/6-31g',molecule=acrolein, return_wfn=True)\n",
        "psi4.molden(wfn,'acrolein.molden')\n",
        "acrolein.save_xyz_file('acrolein.xyz',0)\n"
      ],
      "metadata": {
        "id": "lcCHk-1DEM5o"
      },
      "execution_count": 145,
      "outputs": []
    },
    {
      "cell_type": "code",
      "source": [
        "view = py3Dmol.view()\n",
        "view.addModel(open('acrolein.xyz', 'r').read(),'xyz')\n",
        "view.setBackgroundColor('white')\n",
        "view.setStyle({'stick':{'radius' : 0.2}, 'sphere':{'scale' : 0.3}})\n",
        "view.zoomTo()\n",
        "view.show()"
      ],
      "metadata": {
        "colab": {
          "base_uri": "https://localhost:8080/",
          "height": 517
        },
        "id": "Dpkm7uaAGTB_",
        "outputId": "02770d31-5c5b-4b81-8b66-47a27cf92008"
      },
      "execution_count": 146,
      "outputs": [
        {
          "output_type": "display_data",
          "data": {
            "application/3dmoljs_load.v0": "<div id=\"3dmolviewer_17247836596667702\"  style=\"position: relative; width: 640px; height: 480px;\">\n        <p id=\"3dmolwarning_17247836596667702\" style=\"background-color:#ffcccc;color:black\">3Dmol.js failed to load for some reason.  Please check your browser console for error messages.<br></p>\n        </div>\n<script>\n\nvar loadScriptAsync = function(uri){\n  return new Promise((resolve, reject) => {\n    //this is to ignore the existence of requirejs amd\n    var savedexports, savedmodule;\n    if (typeof exports !== 'undefined') savedexports = exports;\n    else exports = {}\n    if (typeof module !== 'undefined') savedmodule = module;\n    else module = {}\n\n    var tag = document.createElement('script');\n    tag.src = uri;\n    tag.async = true;\n    tag.onload = () => {\n        exports = savedexports;\n        module = savedmodule;\n        resolve();\n    };\n  var firstScriptTag = document.getElementsByTagName('script')[0];\n  firstScriptTag.parentNode.insertBefore(tag, firstScriptTag);\n});\n};\n\nif(typeof $3Dmolpromise === 'undefined') {\n$3Dmolpromise = null;\n  $3Dmolpromise = loadScriptAsync('https://cdnjs.cloudflare.com/ajax/libs/3Dmol/2.3.0/3Dmol-min.js');\n}\n\nvar viewer_17247836596667702 = null;\nvar warn = document.getElementById(\"3dmolwarning_17247836596667702\");\nif(warn) {\n    warn.parentNode.removeChild(warn);\n}\n$3Dmolpromise.then(function() {\nviewer_17247836596667702 = $3Dmol.createViewer(document.getElementById(\"3dmolviewer_17247836596667702\"),{backgroundColor:\"white\"});\nviewer_17247836596667702.zoomTo();\n\tviewer_17247836596667702.addModel(\"8\\n\\n C   -0.966475346887    1.234113451389    0.000000000000\\n C   -0.966475346887   -0.099886548611    0.000000000000\\n C    0.294388597862   -0.865871015055    0.000000000000\\n O    1.394849080185   -0.366170417851    0.000000000000\\n H   -0.034839953383    1.793164203621    0.000000000000\\n H   -1.882754835068    1.812390331040    0.000000000000\\n H   -0.872272446214    0.981618501541    0.000000000000\\n H    0.162678279117   -1.971050363367    0.000000000000\\n\",\"xyz\");\n\tviewer_17247836596667702.setBackgroundColor(\"white\");\n\tviewer_17247836596667702.setStyle({\"stick\": {\"radius\": 0.2}, \"sphere\": {\"scale\": 0.3}});\n\tviewer_17247836596667702.zoomTo();\nviewer_17247836596667702.render();\n});\n</script>",
            "text/html": [
              "<div id=\"3dmolviewer_17247836596667702\"  style=\"position: relative; width: 640px; height: 480px;\">\n",
              "        <p id=\"3dmolwarning_17247836596667702\" style=\"background-color:#ffcccc;color:black\">3Dmol.js failed to load for some reason.  Please check your browser console for error messages.<br></p>\n",
              "        </div>\n",
              "<script>\n",
              "\n",
              "var loadScriptAsync = function(uri){\n",
              "  return new Promise((resolve, reject) => {\n",
              "    //this is to ignore the existence of requirejs amd\n",
              "    var savedexports, savedmodule;\n",
              "    if (typeof exports !== 'undefined') savedexports = exports;\n",
              "    else exports = {}\n",
              "    if (typeof module !== 'undefined') savedmodule = module;\n",
              "    else module = {}\n",
              "\n",
              "    var tag = document.createElement('script');\n",
              "    tag.src = uri;\n",
              "    tag.async = true;\n",
              "    tag.onload = () => {\n",
              "        exports = savedexports;\n",
              "        module = savedmodule;\n",
              "        resolve();\n",
              "    };\n",
              "  var firstScriptTag = document.getElementsByTagName('script')[0];\n",
              "  firstScriptTag.parentNode.insertBefore(tag, firstScriptTag);\n",
              "});\n",
              "};\n",
              "\n",
              "if(typeof $3Dmolpromise === 'undefined') {\n",
              "$3Dmolpromise = null;\n",
              "  $3Dmolpromise = loadScriptAsync('https://cdnjs.cloudflare.com/ajax/libs/3Dmol/2.3.0/3Dmol-min.js');\n",
              "}\n",
              "\n",
              "var viewer_17247836596667702 = null;\n",
              "var warn = document.getElementById(\"3dmolwarning_17247836596667702\");\n",
              "if(warn) {\n",
              "    warn.parentNode.removeChild(warn);\n",
              "}\n",
              "$3Dmolpromise.then(function() {\n",
              "viewer_17247836596667702 = $3Dmol.createViewer(document.getElementById(\"3dmolviewer_17247836596667702\"),{backgroundColor:\"white\"});\n",
              "viewer_17247836596667702.zoomTo();\n",
              "\tviewer_17247836596667702.addModel(\"8\\n\\n C   -0.966475346887    1.234113451389    0.000000000000\\n C   -0.966475346887   -0.099886548611    0.000000000000\\n C    0.294388597862   -0.865871015055    0.000000000000\\n O    1.394849080185   -0.366170417851    0.000000000000\\n H   -0.034839953383    1.793164203621    0.000000000000\\n H   -1.882754835068    1.812390331040    0.000000000000\\n H   -0.872272446214    0.981618501541    0.000000000000\\n H    0.162678279117   -1.971050363367    0.000000000000\\n\",\"xyz\");\n",
              "\tviewer_17247836596667702.setBackgroundColor(\"white\");\n",
              "\tviewer_17247836596667702.setStyle({\"stick\": {\"radius\": 0.2}, \"sphere\": {\"scale\": 0.3}});\n",
              "\tviewer_17247836596667702.zoomTo();\n",
              "viewer_17247836596667702.render();\n",
              "});\n",
              "</script>"
            ]
          },
          "metadata": {}
        }
      ]
    },
    {
      "cell_type": "code",
      "source": [
        "d=0.0\n",
        "geometry = f\"\"\"\n",
        "    C\n",
        "    C 1 1.3340\n",
        "    C 2 1.4753 1 121.2790\n",
        "    O 3 1.2086 2 124.2990 1 {d}\n",
        "    H 1 1.0865 2 120.9669 3 0.000\n",
        "    H 1 1.0835 2 122.2566 3 180.0\n",
        "    H 2 1.0856 3 116.3009 4 {d+180}\n",
        "    H 3 1.1130 2 114.4828 1 {d+180}\n",
        "    \"\"\"\n",
        "acrolein = psi4.geometry(geometry)\n",
        "E, wfn = psi4.energy('scf/6-31g',molecule=acrolein, return_wfn=True)\n",
        "psi4.molden(wfn,'acrolein.molden')\n",
        "acrolein.save_xyz_file('acrolein.xyz',0)\n",
        "\n",
        "view = py3Dmol.view()\n",
        "view.addModel(open('acrolein.xyz', 'r').read(),'xyz')\n",
        "view.setBackgroundColor('white')\n",
        "view.setStyle({'stick':{'radius' : 0.2}, 'sphere':{'scale' : 0.3}})\n",
        "view.zoomTo()\n",
        "view.show()"
      ],
      "metadata": {
        "colab": {
          "base_uri": "https://localhost:8080/",
          "height": 517
        },
        "id": "MYDN2cfBHVvg",
        "outputId": "7089759e-8b4f-4598-c5dc-f5f528b81671"
      },
      "execution_count": 148,
      "outputs": [
        {
          "output_type": "display_data",
          "data": {
            "application/3dmoljs_load.v0": "<div id=\"3dmolviewer_172478383161274\"  style=\"position: relative; width: 640px; height: 480px;\">\n        <p id=\"3dmolwarning_172478383161274\" style=\"background-color:#ffcccc;color:black\">3Dmol.js failed to load for some reason.  Please check your browser console for error messages.<br></p>\n        </div>\n<script>\n\nvar loadScriptAsync = function(uri){\n  return new Promise((resolve, reject) => {\n    //this is to ignore the existence of requirejs amd\n    var savedexports, savedmodule;\n    if (typeof exports !== 'undefined') savedexports = exports;\n    else exports = {}\n    if (typeof module !== 'undefined') savedmodule = module;\n    else module = {}\n\n    var tag = document.createElement('script');\n    tag.src = uri;\n    tag.async = true;\n    tag.onload = () => {\n        exports = savedexports;\n        module = savedmodule;\n        resolve();\n    };\n  var firstScriptTag = document.getElementsByTagName('script')[0];\n  firstScriptTag.parentNode.insertBefore(tag, firstScriptTag);\n});\n};\n\nif(typeof $3Dmolpromise === 'undefined') {\n$3Dmolpromise = null;\n  $3Dmolpromise = loadScriptAsync('https://cdnjs.cloudflare.com/ajax/libs/3Dmol/2.3.0/3Dmol-min.js');\n}\n\nvar viewer_172478383161274 = null;\nvar warn = document.getElementById(\"3dmolwarning_172478383161274\");\nif(warn) {\n    warn.parentNode.removeChild(warn);\n}\n$3Dmolpromise.then(function() {\nviewer_172478383161274 = $3Dmol.createViewer(document.getElementById(\"3dmolviewer_172478383161274\"),{backgroundColor:\"white\"});\nviewer_172478383161274.zoomTo();\n\tviewer_172478383161274.addModel(\"8\\n\\n C   -0.948296193308    1.264037608207    0.000000000000\\n C   -0.948296193308   -0.069962391793    0.000000000000\\n C    0.312567751441   -0.835946858237    0.000000000000\\n O    1.413028233764   -0.336246261033    0.000000000000\\n H   -0.016660799804    1.823088360439    0.000000000000\\n H   -1.864575681489    1.842314487857    0.000000000000\\n H   -1.864694468228   -0.651977478990    0.000000000000\\n H    0.180857432696   -1.941126206549    0.000000000000\\n\",\"xyz\");\n\tviewer_172478383161274.setBackgroundColor(\"white\");\n\tviewer_172478383161274.setStyle({\"stick\": {\"radius\": 0.2}, \"sphere\": {\"scale\": 0.3}});\n\tviewer_172478383161274.zoomTo();\nviewer_172478383161274.render();\n});\n</script>",
            "text/html": [
              "<div id=\"3dmolviewer_172478383161274\"  style=\"position: relative; width: 640px; height: 480px;\">\n",
              "        <p id=\"3dmolwarning_172478383161274\" style=\"background-color:#ffcccc;color:black\">3Dmol.js failed to load for some reason.  Please check your browser console for error messages.<br></p>\n",
              "        </div>\n",
              "<script>\n",
              "\n",
              "var loadScriptAsync = function(uri){\n",
              "  return new Promise((resolve, reject) => {\n",
              "    //this is to ignore the existence of requirejs amd\n",
              "    var savedexports, savedmodule;\n",
              "    if (typeof exports !== 'undefined') savedexports = exports;\n",
              "    else exports = {}\n",
              "    if (typeof module !== 'undefined') savedmodule = module;\n",
              "    else module = {}\n",
              "\n",
              "    var tag = document.createElement('script');\n",
              "    tag.src = uri;\n",
              "    tag.async = true;\n",
              "    tag.onload = () => {\n",
              "        exports = savedexports;\n",
              "        module = savedmodule;\n",
              "        resolve();\n",
              "    };\n",
              "  var firstScriptTag = document.getElementsByTagName('script')[0];\n",
              "  firstScriptTag.parentNode.insertBefore(tag, firstScriptTag);\n",
              "});\n",
              "};\n",
              "\n",
              "if(typeof $3Dmolpromise === 'undefined') {\n",
              "$3Dmolpromise = null;\n",
              "  $3Dmolpromise = loadScriptAsync('https://cdnjs.cloudflare.com/ajax/libs/3Dmol/2.3.0/3Dmol-min.js');\n",
              "}\n",
              "\n",
              "var viewer_172478383161274 = null;\n",
              "var warn = document.getElementById(\"3dmolwarning_172478383161274\");\n",
              "if(warn) {\n",
              "    warn.parentNode.removeChild(warn);\n",
              "}\n",
              "$3Dmolpromise.then(function() {\n",
              "viewer_172478383161274 = $3Dmol.createViewer(document.getElementById(\"3dmolviewer_172478383161274\"),{backgroundColor:\"white\"});\n",
              "viewer_172478383161274.zoomTo();\n",
              "\tviewer_172478383161274.addModel(\"8\\n\\n C   -0.948296193308    1.264037608207    0.000000000000\\n C   -0.948296193308   -0.069962391793    0.000000000000\\n C    0.312567751441   -0.835946858237    0.000000000000\\n O    1.413028233764   -0.336246261033    0.000000000000\\n H   -0.016660799804    1.823088360439    0.000000000000\\n H   -1.864575681489    1.842314487857    0.000000000000\\n H   -1.864694468228   -0.651977478990    0.000000000000\\n H    0.180857432696   -1.941126206549    0.000000000000\\n\",\"xyz\");\n",
              "\tviewer_172478383161274.setBackgroundColor(\"white\");\n",
              "\tviewer_172478383161274.setStyle({\"stick\": {\"radius\": 0.2}, \"sphere\": {\"scale\": 0.3}});\n",
              "\tviewer_172478383161274.zoomTo();\n",
              "viewer_172478383161274.render();\n",
              "});\n",
              "</script>"
            ]
          },
          "metadata": {}
        }
      ]
    },
    {
      "cell_type": "code",
      "source": [],
      "metadata": {
        "id": "II3xrpEnHVx1"
      },
      "execution_count": null,
      "outputs": []
    },
    {
      "cell_type": "code",
      "source": [],
      "metadata": {
        "id": "Tkp9FHwqHVz6"
      },
      "execution_count": null,
      "outputs": []
    },
    {
      "cell_type": "code",
      "source": [
        "x = []\n",
        "y = []\n",
        "\n",
        "dihedrals = np.arange (0,370, 10)\n",
        "for d in dihedrals:\n",
        "    geometry = f\"\"\"\n",
        "    C\n",
        "    C 1 1.3340\n",
        "    C 2 1.4753 1 121.2790\n",
        "    O 3 1.2086 2 124.2990 1 {d}\n",
        "    H 1 1.0865 2 120.9669 3 0.000\n",
        "    H 1 1.0835 2 122.2566 3 180.0\n",
        "    H 2 1.0856 3 116.3009 4 {d+180}\n",
        "    H 3 1.1130 2 114.4828 1 {d+180}\n",
        "    \"\"\"\n",
        "\n",
        "    acrolein = psi4.geometry(geometry)\n",
        "    E, wfn = psi4.energy('scf/6-31g',molecule=acrolein, return_wfn=True)\n",
        "    print (d,E)\n",
        "    x.append(d)\n",
        "    y.append(E)"
      ],
      "metadata": {
        "colab": {
          "base_uri": "https://localhost:8080/"
        },
        "id": "BesGminHEM0-",
        "outputId": "de196e82-0f1c-4fa1-d29b-810d99944512"
      },
      "execution_count": 149,
      "outputs": [
        {
          "output_type": "stream",
          "name": "stdout",
          "text": [
            "0 -190.67434242201037\n",
            "10 -190.674099169304\n",
            "20 -190.67335934816157\n",
            "30 -190.67211761441672\n",
            "40 -190.67042481055336\n",
            "50 -190.66842471530285\n",
            "60 -190.66635231884382\n",
            "70 -190.66449617231626\n",
            "80 -190.66314157680134\n",
            "90 -190.66251356868855\n",
            "100 -190.66273457029047\n",
            "110 -190.66380398145284\n",
            "120 -190.6655998416718\n",
            "130 -190.66789828176746\n",
            "140 -190.67040544935517\n",
            "150 -190.67279773385405\n",
            "160 -190.67476591467548\n",
            "170 -190.67605686093387\n",
            "180 -190.6765060865231\n",
            "190 -190.67605686098\n",
            "200 -190.6747659146488\n",
            "210 -190.6727977337696\n",
            "220 -190.67040544923793\n",
            "230 -190.66789828181746\n",
            "240 -190.66559984153548\n",
            "250 -190.66380398140234\n",
            "260 -190.66273457030456\n",
            "270 -190.66251356877402\n",
            "280 -190.66314157680034\n",
            "290 -190.66449617233516\n",
            "300 -190.666352318763\n",
            "310 -190.66842471522102\n",
            "320 -190.67042481052616\n",
            "330 -190.67211761433168\n",
            "340 -190.67335934806192\n",
            "350 -190.67409916939314\n",
            "360 -190.67434242201037\n"
          ]
        }
      ]
    },
    {
      "cell_type": "code",
      "source": [
        "from matplotlib import pyplot as plt\n",
        "from scipy.interpolate import make_interp_spline, BSpline\n",
        "\n",
        "new_y = []\n",
        "for i in y:\n",
        "  new_y.append(627.51*(i-min(y)))\n",
        "\n",
        "xnew = np.linspace(min(x), max(x), 300)\n",
        "spl = make_interp_spline(x, new_y, k=3)  # type: BSpline\n",
        "power_smooth = spl(xnew)\n",
        "plt.plot(xnew, power_smooth, color='red', label=\"smooth energy function\")\n",
        "plt.scatter(x,new_y, label=\"energy values calculated above\")\n",
        "plt.legend(loc='lower center', bbox_to_anchor=(0.5, -0.25),\n",
        "          ncol=3, fancybox=True, shadow=True)\n",
        "plt.title('acrolein energy as a function of C-C-C-O dihedral angle')\n",
        "plt.xlabel('dihedral angle')\n",
        "plt.ylabel('relative energy [kcal/mol]')\n",
        "plt.savefig('acrolein_dihedral_energy.png', bbox_inches='tight')"
      ],
      "metadata": {
        "colab": {
          "base_uri": "https://localhost:8080/",
          "height": 534
        },
        "id": "kkf_qnzpG9b9",
        "outputId": "93f12213-9be6-44d4-d4af-a13a3a9ddcdb"
      },
      "execution_count": 150,
      "outputs": [
        {
          "output_type": "display_data",
          "data": {
            "text/plain": [
              "<Figure size 640x480 with 1 Axes>"
            ],
            "image/png": "[encoded data removed]"
          },
          "metadata": {}
        }
      ]
    },
    {
      "cell_type": "markdown",
      "source": [
        "From the plot above, we can determine the difference in energy between the S-Cis and S-trans forms of acrolein (in kcal/mol):"
      ],
      "metadata": {
        "id": "P9U30FHKJxRQ"
      }
    },
    {
      "cell_type": "code",
      "source": [
        "print(\"Energy difference between S-Cis and S-Trans: \",new_y[0])"
      ],
      "metadata": {
        "colab": {
          "base_uri": "https://localhost:8080/"
        },
        "id": "v-pgfq_xIvo1",
        "outputId": "7dc8977c-76dd-46fb-89f4-c91e363235f0"
      },
      "execution_count": 155,
      "outputs": [
        {
          "output_type": "stream",
          "name": "stdout",
          "text": [
            "Energy difference between S-Cis and S-Trans:  1.357721118377964\n"
          ]
        }
      ]
    },
    {
      "cell_type": "markdown",
      "source": [
        "We can also estimate the energy benefit of conjugation [by comparing the S-trans (angle = 180) to the structure with an angle = 90):"
      ],
      "metadata": {
        "id": "T4jib2YjKCrA"
      }
    },
    {
      "cell_type": "code",
      "source": [
        "print(\"Energy difference between S-Trans and non-conjugated form: \",max(new_y))"
      ],
      "metadata": {
        "colab": {
          "base_uri": "https://localhost:8080/"
        },
        "id": "_hCcy7d2I5-G",
        "outputId": "acafb7a6-29fd-4746-f72f-4d207837d122"
      },
      "execution_count": 156,
      "outputs": [
        {
          "output_type": "stream",
          "name": "stdout",
          "text": [
            "Energy difference between S-Trans and non-conjugated form:  8.78044486635089\n"
          ]
        }
      ]
    },
    {
      "cell_type": "markdown",
      "source": [
        "Let's now also introduce pandas dataframes, which are essentially tables, by tabulating the dihedral angle in acrolein with its relative energy:"
      ],
      "metadata": {
        "id": "N3suHQYUBZk6"
      }
    },
    {
      "cell_type": "code",
      "source": [
        "import pandas as pd\n",
        "acrolein_df = pd.DataFrame(columns = ['dihedral', 'energy [kcal/mol]'])\n",
        "acrolein_df['dihedral'] = x\n",
        "acrolein_df['energy [kcal/mol]'] = new_y\n",
        "    # [x, y])\n",
        "acrolein_df.head(19)"
      ],
      "metadata": {
        "colab": {
          "base_uri": "https://localhost:8080/",
          "height": 665
        },
        "id": "BTc50CalHUbS",
        "outputId": "91c86c09-aab4-4c97-d8db-32e13dbf9929"
      },
      "execution_count": 167,
      "outputs": [
        {
          "output_type": "execute_result",
          "data": {
            "text/plain": [
              "    dihedral  energy [kcal/mol]\n",
              "0          0           1.357721\n",
              "1         10           1.510365\n",
              "2         20           1.974610\n",
              "3         30           2.753810\n",
              "4         40           3.816061\n",
              "5         50           5.071141\n",
              "6         60           6.371591\n",
              "7         70           7.536341\n",
              "8         80           8.386363\n",
              "9         90           8.780445\n",
              "10       100           8.641764\n",
              "11       110           7.970698\n",
              "12       120           6.843778\n",
              "13       130           5.401484\n",
              "14       140           3.828211\n",
              "15       150           2.327028\n",
              "16       160           1.091975\n",
              "17       170           0.281894\n",
              "18       180           0.000000"
            ],
            "text/html": [
              "\n",
              "  <div id=\"df-c54fcd04-5905-4f1b-ab71-75c9149e0447\" class=\"colab-df-container\">\n",
              "    <div>\n",
              "<style scoped>\n",
              "    .dataframe tbody tr th:only-of-type {\n",
              "        vertical-align: middle;\n",
              "    }\n",
              "\n",
              "    .dataframe tbody tr th {\n",
              "        vertical-align: top;\n",
              "    }\n",
              "\n",
              "    .dataframe thead th {\n",
              "        text-align: right;\n",
              "    }\n",
              "</style>\n",
              "<table border=\"1\" class=\"dataframe\">\n",
              "  <thead>\n",
              "    <tr style=\"text-align: right;\">\n",
              "      <th></th>\n",
              "      <th>dihedral</th>\n",
              "      <th>energy [kcal/mol]</th>\n",
              "    </tr>\n",
              "  </thead>\n",
              "  <tbody>\n",
              "    <tr>\n",
              "      <th>0</th>\n",
              "      <td>0</td>\n",
              "      <td>1.357721</td>\n",
              "    </tr>\n",
              "    <tr>\n",
              "      <th>1</th>\n",
              "      <td>10</td>\n",
              "      <td>1.510365</td>\n",
              "    </tr>\n",
              "    <tr>\n",
              "      <th>2</th>\n",
              "      <td>20</td>\n",
              "      <td>1.974610</td>\n",
              "    </tr>\n",
              "    <tr>\n",
              "      <th>3</th>\n",
              "      <td>30</td>\n",
              "      <td>2.753810</td>\n",
              "    </tr>\n",
              "    <tr>\n",
              "      <th>4</th>\n",
              "      <td>40</td>\n",
              "      <td>3.816061</td>\n",
              "    </tr>\n",
              "    <tr>\n",
              "      <th>5</th>\n",
              "      <td>50</td>\n",
              "      <td>5.071141</td>\n",
              "    </tr>\n",
              "    <tr>\n",
              "      <th>6</th>\n",
              "      <td>60</td>\n",
              "      <td>6.371591</td>\n",
              "    </tr>\n",
              "    <tr>\n",
              "      <th>7</th>\n",
              "      <td>70</td>\n",
              "      <td>7.536341</td>\n",
              "    </tr>\n",
              "    <tr>\n",
              "      <th>8</th>\n",
              "      <td>80</td>\n",
              "      <td>8.386363</td>\n",
              "    </tr>\n",
              "    <tr>\n",
              "      <th>9</th>\n",
              "      <td>90</td>\n",
              "      <td>8.780445</td>\n",
              "    </tr>\n",
              "    <tr>\n",
              "      <th>10</th>\n",
              "      <td>100</td>\n",
              "      <td>8.641764</td>\n",
              "    </tr>\n",
              "    <tr>\n",
              "      <th>11</th>\n",
              "      <td>110</td>\n",
              "      <td>7.970698</td>\n",
              "    </tr>\n",
              "    <tr>\n",
              "      <th>12</th>\n",
              "      <td>120</td>\n",
              "      <td>6.843778</td>\n",
              "    </tr>\n",
              "    <tr>\n",
              "      <th>13</th>\n",
              "      <td>130</td>\n",
              "      <td>5.401484</td>\n",
              "    </tr>\n",
              "    <tr>\n",
              "      <th>14</th>\n",
              "      <td>140</td>\n",
              "      <td>3.828211</td>\n",
              "    </tr>\n",
              "    <tr>\n",
              "      <th>15</th>\n",
              "      <td>150</td>\n",
              "      <td>2.327028</td>\n",
              "    </tr>\n",
              "    <tr>\n",
              "      <th>16</th>\n",
              "      <td>160</td>\n",
              "      <td>1.091975</td>\n",
              "    </tr>\n",
              "    <tr>\n",
              "      <th>17</th>\n",
              "      <td>170</td>\n",
              "      <td>0.281894</td>\n",
              "    </tr>\n",
              "    <tr>\n",
              "      <th>18</th>\n",
              "      <td>180</td>\n",
              "      <td>0.000000</td>\n",
              "    </tr>\n",
              "  </tbody>\n",
              "</table>\n",
              "</div>\n",
              "    <div class=\"colab-df-buttons\">\n",
              "\n",
              "  <div class=\"colab-df-container\">\n",
              "    <button class=\"colab-df-convert\" onclick=\"convertToInteractive('df-c54fcd04-5905-4f1b-ab71-75c9149e0447')\"\n",
              "            title=\"Convert this dataframe to an interactive table.\"\n",
              "            style=\"display:none;\">\n",
              "\n",
              "  <svg xmlns=\"http://www.w3.org/2000/svg\" height=\"24px\" viewBox=\"0 -960 960 960\">\n",
              "    <path d=\"M120-120v-720h720v720H120Zm60-500h600v-160H180v160Zm220 220h160v-160H400v160Zm0 220h160v-160H400v160ZM180-400h160v-160H180v160Zm440 0h160v-160H620v160ZM180-180h160v-160H180v160Zm440 0h160v-160H620v160Z\"/>\n",
              "  </svg>\n",
              "    </button>\n",
              "\n",
              "  <style>\n",
              "    .colab-df-container {\n",
              "      display:flex;\n",
              "      gap: 12px;\n",
              "    }\n",
              "\n",
              "    .colab-df-convert {\n",
              "      background-color: #E8F0FE;\n",
              "      border: none;\n",
              "      border-radius: 50%;\n",
              "      cursor: pointer;\n",
              "      display: none;\n",
              "      fill: #1967D2;\n",
              "      height: 32px;\n",
              "      padding: 0 0 0 0;\n",
              "      width: 32px;\n",
              "    }\n",
              "\n",
              "    .colab-df-convert:hover {\n",
              "      background-color: #E2EBFA;\n",
              "      box-shadow: 0px 1px 2px rgba(60, 64, 67, 0.3), 0px 1px 3px 1px rgba(60, 64, 67, 0.15);\n",
              "      fill: #174EA6;\n",
              "    }\n",
              "\n",
              "    .colab-df-buttons div {\n",
              "      margin-bottom: 4px;\n",
              "    }\n",
              "\n",
              "    [theme=dark] .colab-df-convert {\n",
              "      background-color: #3B4455;\n",
              "      fill: #D2E3FC;\n",
              "    }\n",
              "\n",
              "    [theme=dark] .colab-df-convert:hover {\n",
              "      background-color: #434B5C;\n",
              "      box-shadow: 0px 1px 3px 1px rgba(0, 0, 0, 0.15);\n",
              "      filter: drop-shadow(0px 1px 2px rgba(0, 0, 0, 0.3));\n",
              "      fill: #FFFFFF;\n",
              "    }\n",
              "  </style>\n",
              "\n",
              "    <script>\n",
              "      const buttonEl =\n",
              "        document.querySelector('#df-c54fcd04-5905-4f1b-ab71-75c9149e0447 button.colab-df-convert');\n",
              "      buttonEl.style.display =\n",
              "        google.colab.kernel.accessAllowed ? 'block' : 'none';\n",
              "\n",
              "      async function convertToInteractive(key) {\n",
              "        const element = document.querySelector('#df-c54fcd04-5905-4f1b-ab71-75c9149e0447');\n",
              "        const dataTable =\n",
              "          await google.colab.kernel.invokeFunction('convertToInteractive',\n",
              "                                                    [key], {});\n",
              "        if (!dataTable) return;\n",
              "\n",
              "        const docLinkHtml = 'Like what you see? Visit the ' +\n",
              "          '<a target=\"_blank\" href=https://colab.research.google.com/notebooks/data_table.ipynb>data table notebook</a>'\n",
              "          + ' to learn more about interactive tables.';\n",
              "        element.innerHTML = '';\n",
              "        dataTable['output_type'] = 'display_data';\n",
              "        await google.colab.output.renderOutput(dataTable, element);\n",
              "        const docLink = document.createElement('div');\n",
              "        docLink.innerHTML = docLinkHtml;\n",
              "        element.appendChild(docLink);\n",
              "      }\n",
              "    </script>\n",
              "  </div>\n",
              "\n",
              "\n",
              "<div id=\"df-02f210f4-9645-4caf-821d-dd2aea983856\">\n",
              "  <button class=\"colab-df-quickchart\" onclick=\"quickchart('df-02f210f4-9645-4caf-821d-dd2aea983856')\"\n",
              "            title=\"Suggest charts\"\n",
              "            style=\"display:none;\">\n",
              "\n",
              "<svg xmlns=\"http://www.w3.org/2000/svg\" height=\"24px\"viewBox=\"0 0 24 24\"\n",
              "     width=\"24px\">\n",
              "    <g>\n",
              "        <path d=\"M19 3H5c-1.1 0-2 .9-2 2v14c0 1.1.9 2 2 2h14c1.1 0 2-.9 2-2V5c0-1.1-.9-2-2-2zM9 17H7v-7h2v7zm4 0h-2V7h2v10zm4 0h-2v-4h2v4z\"/>\n",
              "    </g>\n",
              "</svg>\n",
              "  </button>\n",
              "\n",
              "<style>\n",
              "  .colab-df-quickchart {\n",
              "      --bg-color: #E8F0FE;\n",
              "      --fill-color: #1967D2;\n",
              "      --hover-bg-color: #E2EBFA;\n",
              "      --hover-fill-color: #174EA6;\n",
              "      --disabled-fill-color: #AAA;\n",
              "      --disabled-bg-color: #DDD;\n",
              "  }\n",
              "\n",
              "  [theme=dark] .colab-df-quickchart {\n",
              "      --bg-color: #3B4455;\n",
              "      --fill-color: #D2E3FC;\n",
              "      --hover-bg-color: #434B5C;\n",
              "      --hover-fill-color: #FFFFFF;\n",
              "      --disabled-bg-color: #3B4455;\n",
              "      --disabled-fill-color: #666;\n",
              "  }\n",
              "\n",
              "  .colab-df-quickchart {\n",
              "    background-color: var(--bg-color);\n",
              "    border: none;\n",
              "    border-radius: 50%;\n",
              "    cursor: pointer;\n",
              "    display: none;\n",
              "    fill: var(--fill-color);\n",
              "    height: 32px;\n",
              "    padding: 0;\n",
              "    width: 32px;\n",
              "  }\n",
              "\n",
              "  .colab-df-quickchart:hover {\n",
              "    background-color: var(--hover-bg-color);\n",
              "    box-shadow: 0 1px 2px rgba(60, 64, 67, 0.3), 0 1px 3px 1px rgba(60, 64, 67, 0.15);\n",
              "    fill: var(--button-hover-fill-color);\n",
              "  }\n",
              "\n",
              "  .colab-df-quickchart-complete:disabled,\n",
              "  .colab-df-quickchart-complete:disabled:hover {\n",
              "    background-color: var(--disabled-bg-color);\n",
              "    fill: var(--disabled-fill-color);\n",
              "    box-shadow: none;\n",
              "  }\n",
              "\n",
              "  .colab-df-spinner {\n",
              "    border: 2px solid var(--fill-color);\n",
              "    border-color: transparent;\n",
              "    border-bottom-color: var(--fill-color);\n",
              "    animation:\n",
              "      spin 1s steps(1) infinite;\n",
              "  }\n",
              "\n",
              "  @keyframes spin {\n",
              "    0% {\n",
              "      border-color: transparent;\n",
              "      border-bottom-color: var(--fill-color);\n",
              "      border-left-color: var(--fill-color);\n",
              "    }\n",
              "    20% {\n",
              "      border-color: transparent;\n",
              "      border-left-color: var(--fill-color);\n",
              "      border-top-color: var(--fill-color);\n",
              "    }\n",
              "    30% {\n",
              "      border-color: transparent;\n",
              "      border-left-color: var(--fill-color);\n",
              "      border-top-color: var(--fill-color);\n",
              "      border-right-color: var(--fill-color);\n",
              "    }\n",
              "    40% {\n",
              "      border-color: transparent;\n",
              "      border-right-color: var(--fill-color);\n",
              "      border-top-color: var(--fill-color);\n",
              "    }\n",
              "    60% {\n",
              "      border-color: transparent;\n",
              "      border-right-color: var(--fill-color);\n",
              "    }\n",
              "    80% {\n",
              "      border-color: transparent;\n",
              "      border-right-color: var(--fill-color);\n",
              "      border-bottom-color: var(--fill-color);\n",
              "    }\n",
              "    90% {\n",
              "      border-color: transparent;\n",
              "      border-bottom-color: var(--fill-color);\n",
              "    }\n",
              "  }\n",
              "</style>\n",
              "\n",
              "  <script>\n",
              "    async function quickchart(key) {\n",
              "      const quickchartButtonEl =\n",
              "        document.querySelector('#' + key + ' button');\n",
              "      quickchartButtonEl.disabled = true;  // To prevent multiple clicks.\n",
              "      quickchartButtonEl.classList.add('colab-df-spinner');\n",
              "      try {\n",
              "        const charts = await google.colab.kernel.invokeFunction(\n",
              "            'suggestCharts', [key], {});\n",
              "      } catch (error) {\n",
              "        console.error('Error during call to suggestCharts:', error);\n",
              "      }\n",
              "      quickchartButtonEl.classList.remove('colab-df-spinner');\n",
              "      quickchartButtonEl.classList.add('colab-df-quickchart-complete');\n",
              "    }\n",
              "    (() => {\n",
              "      let quickchartButtonEl =\n",
              "        document.querySelector('#df-02f210f4-9645-4caf-821d-dd2aea983856 button');\n",
              "      quickchartButtonEl.style.display =\n",
              "        google.colab.kernel.accessAllowed ? 'block' : 'none';\n",
              "    })();\n",
              "  </script>\n",
              "</div>\n",
              "\n",
              "    </div>\n",
              "  </div>\n"
            ],
            "application/vnd.google.colaboratory.intrinsic+json": {
              "type": "dataframe",
              "variable_name": "acrolein_df",
              "summary": "{\n  \"name\": \"acrolein_df\",\n  \"rows\": 37,\n  \"fields\": [\n    {\n      \"column\": \"dihedral\",\n      \"properties\": {\n        \"dtype\": \"number\",\n        \"std\": 108,\n        \"min\": 0,\n        \"max\": 360,\n        \"num_unique_values\": 37,\n        \"samples\": [\n          170,\n          130,\n          40\n        ],\n        \"semantic_type\": \"\",\n        \"description\": \"\"\n      }\n    },\n    {\n      \"column\": \"energy [kcal/mol]\",\n      \"properties\": {\n        \"dtype\": \"number\",\n        \"std\": 2.9379299837540525,\n        \"min\": 0.0,\n        \"max\": 8.78044486635089,\n        \"num_unique_values\": 36,\n        \"samples\": [\n          1.510364568212349,\n          5.401483562203535,\n          8.64176414228719\n        ],\n        \"semantic_type\": \"\",\n        \"description\": \"\"\n      }\n    }\n  ]\n}"
            }
          },
          "metadata": {},
          "execution_count": 167
        }
      ]
    },
    {
      "cell_type": "markdown",
      "source": [
        "We can access information in a dataframe using the row index (the bold number next to each row). The code below takes a row_index and output the associated energy. Change the row index to determine the energy of the S-Cis, S-Trans, and non-conjugated form (dihedral = 90) of acrolein."
      ],
      "metadata": {
        "id": "BxRnm00ZBZnH"
      }
    },
    {
      "cell_type": "code",
      "source": [
        "row_index = 0\n",
        "print(acrolein_df.iloc[row_index])"
      ],
      "metadata": {
        "colab": {
          "base_uri": "https://localhost:8080/"
        },
        "id": "k-2C7TigMQuv",
        "outputId": "c104bc46-2ad9-4d62-bc60-24f6892dcf6a"
      },
      "execution_count": 169,
      "outputs": [
        {
          "output_type": "stream",
          "name": "stdout",
          "text": [
            "dihedral             0.000000\n",
            "energy [kcal/mol]    1.357721\n",
            "Name: 0, dtype: float64\n"
          ]
        }
      ]
    },
    {
      "cell_type": "markdown",
      "source": [
        "Energy of S-Cis conformer: (student input) kcal/mol\n",
        "Energy of S-Trans conformer: (student input) kcal/mol\n",
        "Energy of non-conjugated conformer: (student input) kcal/mol"
      ],
      "metadata": {
        "id": "pKCJ3bL8BZpK"
      }
    },
    {
      "cell_type": "markdown",
      "source": [],
      "metadata": {
        "id": "ksl3gfC2BZrb"
      }
    },
    {
      "cell_type": "markdown",
      "source": [],
      "metadata": {
        "id": "Coe0rOUnBZta"
      }
    },
    {
      "cell_type": "markdown",
      "source": [],
      "metadata": {
        "id": "jlgoPiuwBZvt"
      }
    },
    {
      "cell_type": "code",
      "source": [],
      "metadata": {
        "id": "CGcYTlpSBRx1"
      },
      "execution_count": null,
      "outputs": []
    }
  ]
}