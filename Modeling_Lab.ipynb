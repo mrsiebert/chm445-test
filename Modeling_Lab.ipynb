{
  "nbformat": 4,
  "nbformat_minor": 0,
  "metadata": {
    "colab": {
      "provenance": []
    },
    "kernelspec": {
      "name": "python3",
      "display_name": "Python 3"
    },
    "language_info": {
      "name": "python"
    }
  },
  "cells": [
    {
      "cell_type": "code",
      "execution_count": null,
      "metadata": {
        "id": "l1Ksu7t-9vXz"
      },
      "outputs": [],
      "source": []
    },
    {
      "cell_type": "markdown",
      "source": [
        "#Molecular Modeling"
      ],
      "metadata": {
        "id": "bIAPIjpg9ylp"
      }
    },
    {
      "cell_type": "markdown",
      "source": [
        "## Introduction"
      ],
      "metadata": {
        "id": "jv9fM1qo9y1s"
      }
    },
    {
      "cell_type": "markdown",
      "source": [
        "Molecular modeling is an area of chemistry that uses computational chemistry to rationalize experimental data, provide mechanistic insights, and to relate molecular structure to reactivity. With improvements in computer software and hardware, chemists are able to predict and explain\n",
        "with increasing accuracy the properties of increasingly sophisticated molecules.\n",
        "\n",
        "The aim of the CHM 445 molecular modeling experiment is to provide deeper insight into the $\\textit{experimental}$ results generated and the concepts covered in the lab. The current chapter is devoted\n",
        "to exercises aimed at familiarizing you with the basic concepts of molecular modeling and providing practice in performing calculations. As the semester progresses, you will be required to perform similar calculations on your own in order to answer post-lab questions related to most laboratory experiments. It is thus in your interest to become confident and competent in using [Psi4](https://psicode.org/). You may find the [Psi4 manual](https://psicode.org/psi4manual/master/index.html) useful. The information and exercises contained within this chapter serve as an excellent resource."
      ],
      "metadata": {
        "id": "jp2KzdtB9-MM"
      }
    },
    {
      "cell_type": "markdown",
      "source": [
        "## Pre-lab Instructions"
      ],
      "metadata": {
        "id": "HKXsq0dg9y4V"
      }
    },
    {
      "cell_type": "markdown",
      "source": [
        "You must complete the pre-lab tasks detailed below. These tasks replace the typical pre-lab questions, reagent table, procedure notes, etc."
      ],
      "metadata": {
        "id": "IX8Nm9fZ9y63"
      }
    },
    {
      "cell_type": "markdown",
      "source": [
        "### Read sections before class"
      ],
      "metadata": {
        "id": "d_Pf0WUO9y9Z"
      }
    },
    {
      "cell_type": "markdown",
      "source": [
        "It is crucial that you are familiar with the background information provided before the lab sessions begin. The more familiar you are\n",
        "with Psi4, the more likely you are to successfully complete the computational experiments in a reasonable amount of time."
      ],
      "metadata": {
        "id": "7qtuUwdj9y_6"
      }
    },
    {
      "cell_type": "markdown",
      "source": [
        "### View the Psi4 lectures on Brightspace"
      ],
      "metadata": {
        "id": "Zn4P-imy9zCE"
      }
    },
    {
      "cell_type": "markdown",
      "source": [
        "Only by watching the video lectures and reading the prelab material will you understand how computational chemistry is used in the course and be\n",
        "ready to perform the necessary calculations."
      ],
      "metadata": {
        "id": "mzGYQl1n9zEi"
      }
    },
    {
      "cell_type": "markdown",
      "source": [],
      "metadata": {
        "id": "xW0hbCgt9zGx"
      }
    },
    {
      "cell_type": "markdown",
      "source": [],
      "metadata": {
        "id": "or-cjEQk9zJH"
      }
    },
    {
      "cell_type": "markdown",
      "source": [],
      "metadata": {
        "id": "dXUOlpHk9zLt"
      }
    },
    {
      "cell_type": "markdown",
      "source": [],
      "metadata": {
        "id": "O6-SWUYz9zOX"
      }
    },
    {
      "cell_type": "markdown",
      "source": [],
      "metadata": {
        "id": "XRavAZk89zRO"
      }
    },
    {
      "cell_type": "markdown",
      "source": [],
      "metadata": {
        "id": "tOlh671j9zUO"
      }
    }
  ]
}