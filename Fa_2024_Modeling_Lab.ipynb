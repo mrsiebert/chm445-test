{
  "nbformat": 4,
  "nbformat_minor": 0,
  "metadata": {
    "colab": {
      "provenance": [],
      "collapsed_sections": [
        "jv9fM1qo9y1s",
        "HKXsq0dg9y4V",
        "dXUOlpHk9zLt",
        "1wIHgo7vXR_g"
      ]
    },
    "kernelspec": {
      "name": "python3",
      "display_name": "Python 3"
    },
    "language_info": {
      "name": "python"
    }
  },
  "cells": [
    {
      "cell_type": "markdown",
      "source": [
        "# 1. Molecular Modeling"
      ],
      "metadata": {
        "id": "bIAPIjpg9ylp"
      }
    },
    {
      "cell_type": "markdown",
      "source": [
        "## 1.1 Introduction"
      ],
      "metadata": {
        "id": "jv9fM1qo9y1s"
      }
    },
    {
      "cell_type": "markdown",
      "source": [
        "Molecular modeling is an area of chemistry that uses computational chemistry to rationalize experimental data, provide mechanistic insights, and to relate molecular structure to reactivity. With improvements in computer software and hardware, chemists are able to predict and explain\n",
        "with increasing accuracy the properties of increasingly sophisticated molecules.\n",
        "\n",
        "The aim of the CHM 445 molecular modeling experiment is to provide deeper insight into the $\\textit{experimental}$ results generated and the concepts covered in the lab. The current chapter is devoted\n",
        "to exercises aimed at familiarizing you with the basic concepts of molecular modeling and providing practice in performing calculations. As the semester progresses, you will be required to perform similar calculations on your own in order to answer post-lab questions related to most laboratory experiments. It is thus in your interest to become confident and competent in using [Psi4](https://psicode.org/). You may find the [Psi4 manual](https://psicode.org/psi4manual/master/index.html) useful. The information and exercises contained within this chapter serve as an excellent resource."
      ],
      "metadata": {
        "id": "jp2KzdtB9-MM"
      }
    },
    {
      "cell_type": "markdown",
      "source": [
        "### 1.1.1 Pre-lab Instructions"
      ],
      "metadata": {
        "id": "HKXsq0dg9y4V"
      }
    },
    {
      "cell_type": "markdown",
      "source": [
        "You must complete the pre-lab tasks detailed below. These tasks replace the typical pre-lab questions, reagent table, procedure notes, etc."
      ],
      "metadata": {
        "id": "IX8Nm9fZ9y63"
      }
    },
    {
      "cell_type": "markdown",
      "source": [
        "#### 1.1.1.1 Read sections before class"
      ],
      "metadata": {
        "id": "d_Pf0WUO9y9Z"
      }
    },
    {
      "cell_type": "markdown",
      "source": [
        "It is crucial that you are familiar with the background information provided before the lab sessions begin. The more familiar you are\n",
        "with Psi4, the more likely you are to successfully complete the computational experiments in a reasonable amount of time."
      ],
      "metadata": {
        "id": "7qtuUwdj9y_6"
      }
    },
    {
      "cell_type": "markdown",
      "source": [
        "### 1.1.2 Getting started with Google Colaboratory (Jupyter Notebooks) and Python\n",
        "\n"
      ],
      "metadata": {
        "id": "xW0hbCgt9zGx"
      }
    },
    {
      "cell_type": "markdown",
      "source": [
        "Google Colaboratry (a form of Jupyter Notebooks) and Python have had a significant impact on computational chemistry by making powerful computational tools more accessible, customizable, and user-friendly. Here's how they've revolutionized the field:"
      ],
      "metadata": {
        "id": "dEJLknHVd1XR"
      }
    },
    {
      "cell_type": "markdown",
      "source": [
        "#### 1.1.2.1 Accessibility and Usability"
      ],
      "metadata": {
        "id": "p8_Wzjj7d1Zy"
      }
    },
    {
      "cell_type": "markdown",
      "source": [
        "Jupyter Notebooks provide an interactive environment where users can write and execute code in real-time. This allows chemists to run simulations, analyze data, and visualize results in one place, making it easier to explore and experiment with computational models.\n",
        "\n",
        "Jupyter’s support for combining code, text, and equations in a single document is ideal for computational chemistry. Researchers can explain their methods, annotate their code, and include LaTeX-formatted chemical equations, all in the same document.\n",
        "\n",
        "Lastly, jupyter notebooks utilizing python are open-source that run on various platforms (Windows, macOS, Linux). This means computational chemistry scripts and notebooks can be shared and run on different systems without compatibility issues."
      ],
      "metadata": {
        "id": "S7-mM6YTd1cC"
      }
    },
    {
      "cell_type": "markdown",
      "source": [
        "#### 1.1.2.2 Powerful Libraries and Tools"
      ],
      "metadata": {
        "id": "gHWk6V_sd1eL"
      }
    },
    {
      "cell_type": "markdown",
      "source": [
        "Python has a rich ecosystem of libraries for computational chemistry. Some that we will use include:\n",
        " - RDKit: For cheminformatics and molecular modeling.\n",
        " - ASE (Atomic Simulation Environment): For setting up, manipulating, and analyzing atomic simulations.\n",
        " - Psi4: An open-source quantum chemistry software package for ab initio calculations.\n",
        " - NumPy: Supports use of large, multi-dimensional arrays and matrices, along with a large collection of high-level mathematical functions to operate on these arrays.\n",
        " - Pandas: Support for working with data sets. It has functions for analyzing, cleaning, exploring, and manipulating data.\n",
        " - Matplotlib: A comprehensive library for creating static, animated, and interactive visualizations in Python. Matplotlib makes easy things easy and hard things possible. Create publication quality plots. Make interactive figures that can zoom, pan, update."
      ],
      "metadata": {
        "id": "xFPHF47ieYPh"
      }
    },
    {
      "cell_type": "markdown",
      "source": [
        "#### 1.1.2.3 Overall Impact of Jupyter Notebooks/Google Colaboratory with Python"
      ],
      "metadata": {
        "id": "2jGL6nP8eYRz"
      }
    },
    {
      "cell_type": "markdown",
      "source": [
        "Overall, Jupyter Notebooks and Python have transformed computational chemistry by providing a versatile, accessible, and powerful platform for conducting, sharing, and teaching complex computational work. They enable a wide range of researchers, from students to professionals, to engage in computational chemistry more effectively and collaboratively."
      ],
      "metadata": {
        "id": "SCgSL939eYT4"
      }
    },
    {
      "cell_type": "markdown",
      "source": [
        "### 1.1.3 Common Job Types\n"
      ],
      "metadata": {
        "id": "dXUOlpHk9zLt"
      }
    },
    {
      "cell_type": "markdown",
      "source": [
        "#### 1.1.3.1 Energy Determination"
      ],
      "metadata": {
        "id": "U-u6YsJFXXMc"
      }
    },
    {
      "cell_type": "markdown",
      "source": [
        "Calculates the optimized molecular orbitals, by determining the combination of atomic orbitals that allows for the lowest energy electron configuration."
      ],
      "metadata": {
        "id": "5CweUAD8XaD1"
      }
    },
    {
      "cell_type": "markdown",
      "source": [
        "#### 1.1.3.2 Geometry Optimization"
      ],
      "metadata": {
        "id": "O6-SWUYz9zOX"
      }
    },
    {
      "cell_type": "markdown",
      "source": [
        "Calculates an optimized, energy-minimized geometry or structure for\n",
        "an input geometry or structure. In each step of a geometry optimization, an energy determination calculation is completed."
      ],
      "metadata": {
        "id": "XRavAZk89zRO"
      }
    },
    {
      "cell_type": "markdown",
      "source": [
        "#### 1.1.3.3 Vibrational Frequencies"
      ],
      "metadata": {
        "id": "tOlh671j9zUO"
      }
    },
    {
      "cell_type": "markdown",
      "source": [
        "Calculates the infrared and Raman vibrational frequencies of a molecule. The vibrational modes also offer insight into the structure optimized in a geometry optimization step."
      ],
      "metadata": {
        "id": "BC5kEU4AXRqz"
      }
    },
    {
      "cell_type": "markdown",
      "source": [
        "#### 1.1.3.4 Opt+Freq"
      ],
      "metadata": {
        "id": "9BqPor2PXRtH"
      }
    },
    {
      "cell_type": "markdown",
      "source": [
        "Calculates the optimized geometry and the vibrational frequency for a\n",
        "molecule in one combined job of the previous two job types. This will be your most common job type."
      ],
      "metadata": {
        "id": "lX5ti9b7XRvW"
      }
    },
    {
      "cell_type": "markdown",
      "source": [
        "#### 1.1.3.5 NMR"
      ],
      "metadata": {
        "id": "WjHLE9QXXRxv"
      }
    },
    {
      "cell_type": "markdown",
      "source": [
        "Calculates the chemical shifts of the atoms in an input geometry. The $^1$H and $^{13}$C NMR chemical shift values are calculated relative to TMS."
      ],
      "metadata": {
        "id": "WSxnSRGZXR0D"
      }
    },
    {
      "cell_type": "markdown",
      "source": [
        "#### 1.1.3.6 Coordinate Scan\n",
        "\n"
      ],
      "metadata": {
        "id": "_yohr17wXR2S"
      }
    },
    {
      "cell_type": "markdown",
      "source": [
        "Generates the molecular orbitals, electron density, atomic charges, and the natural hybrid and bond orbitals of a molecule using NBO 6.0, a program developed by UW-Madison theoretical chemist Prof. Frank Weinhold. NBO displays the orbitals in a clear, user-friendly manner."
      ],
      "metadata": {
        "id": "CXZjStILXR4p"
      }
    },
    {
      "cell_type": "markdown",
      "source": [
        "#### 1.1.3.7 Transition State Structure (TSS) Optimization"
      ],
      "metadata": {
        "id": "ROkBEh5dXR6_"
      }
    },
    {
      "cell_type": "markdown",
      "source": [
        "Calculates an optimized geometry for a molecular structure that\n",
        "possesses exactly one negative (imaginary) vibrational mode. Such a molecule represents a transition state (an energy maximum on the potential energy surface or reaction coordinate diagram)."
      ],
      "metadata": {
        "id": "xIkIPFWnXR9P"
      }
    },
    {
      "cell_type": "markdown",
      "source": [
        "### 1.1.4 Model Chemistry"
      ],
      "metadata": {
        "id": "1wIHgo7vXR_g"
      }
    },
    {
      "cell_type": "markdown",
      "source": [
        "In computational chemistry, the phrase \"model chemistry\" refers to a specific combination of methods and approximations used to calculate the electronic structure and properties of molecules. It defines the theoretical framework chosen to represent a chemical system computationally, balancing accuracy and computational cost. Key elements of model chemistry include:\n",
        "\n",
        "    "
      ],
      "metadata": {
        "id": "eUW5jeksZKg1"
      }
    },
    {
      "cell_type": "markdown",
      "source": [
        "#### 1.1.4.1 Level of Theory"
      ],
      "metadata": {
        "id": "zVNOQHdBZP5C"
      }
    },
    {
      "cell_type": "markdown",
      "source": [
        "\"Level of theory\" refers to the specific method or combination of methods used to approximate the quantum mechanical behavior of a chemical system. It defines the mathematical framework chosen to describe the electronic structure and properties of molecules.\n",
        "\n",
        "A basic quantum mechanical method that approximates the behavior of electrons using the mean field approach is known as Hartree-Fock (HF).\n",
        "\n",
        "Post-Hartree-Fock Methods: These include more sophisticated and accurate methods like Møller-Plesset perturbation theory (MP2), coupled-cluster theory (CC), and configuration interaction (CI), which go beyond Hartree-Fock by considering electron correlation explicitly.\n",
        "\n",
        "In recent years, popular methods known as Density Functional Theory (DFT)methods use electron density rather than wavefunctions to calculate molecular properties. DFT methods often providing a good balance between accuracy and computational efficiency. Popular DFT methods include B3LYP, BP86, and M06-2X.\n",
        "\n"
      ],
      "metadata": {
        "id": "eWg3E2i0ZV0e"
      }
    },
    {
      "cell_type": "markdown",
      "source": [
        "#### 1.1.4.2 Basis Set"
      ],
      "metadata": {
        "id": "NmcLohvvasce"
      }
    },
    {
      "cell_type": "markdown",
      "source": [
        "A basis set is a collection of mathematical functions used to approximate atomic orbitals. These surrogate orbitals are easier to compute and are used to describe the molecular orbitals in a quantum chemical calculation. Choosing a basis set involves a trade-off between computational cost and the accuracy of the molecular description.\n",
        "\n",
        "Examples of common basis sets include minimal basis sets (like STO-3G), split-valence basis sets (like 6-31G), and correlation-consistent basis sets (like cc-pVDZ or aug-cc-pVTZ)."
      ],
      "metadata": {
        "id": "jPQ6OHEQasep"
      }
    },
    {
      "cell_type": "markdown",
      "source": [
        "#### 1.1.4.3 Other Aspects of Model Chemistry"
      ],
      "metadata": {
        "id": "nsiPEansbGbP"
      }
    },
    {
      "cell_type": "markdown",
      "source": [
        "Other aspects included in model chemistry include: incorporation of solvent, emperical corrections (experimental corrections added to improve accuracy), etc."
      ],
      "metadata": {
        "id": "qhzIwmgkbGds"
      }
    },
    {
      "cell_type": "markdown",
      "source": [
        "#### 1.1.4.4 Why is Model Chemistry Important?"
      ],
      "metadata": {
        "id": "a1Z4YYFlba6g"
      }
    },
    {
      "cell_type": "markdown",
      "source": [
        "Model chemistry is akin to the experimental parameters in a typical wet-chemistry experiment, e.g., specific rotation in polarimetry is reported when using the sodium D line. The wavelength of the sodium D line is 589 nm. If you are looking to reproduce specific rotation measurements, you need to utilize this wavelength of light.\n",
        "\n",
        "The model chemistry represents the specific trade-off between accuracy and computational cost: The choice of model chemistry is crucial because it determines the accuracy of the results and the computational resources required. For example, while a higher level of theory like coupled-cluster methods can give highly accurate results, it is also much more computationally expensive than DFT or Hartree-Fock.\n",
        "\n",
        "Lastly, different model chemistries are better suited for different types of problems. For instance, highly accurate methods like CCSD(T) might be necessary for small molecules or benchmark calculations, while DFT may be more appropriate for large systems like biomolecules or materials, where computational cost is a concern."
      ],
      "metadata": {
        "id": "tKAyIJynba_y"
      }
    },
    {
      "cell_type": "markdown",
      "source": [
        "#### 1.1.4.5 Examples of Common Model Chemistries"
      ],
      "metadata": {
        "id": "cmTnj5RocoRT"
      }
    },
    {
      "cell_type": "markdown",
      "source": [
        "HF/6-31G: Hartree-Fock method with the 6-31G basis set, often used for basic quantum chemistry calculations.\n",
        "\n",
        "B3LYP/6-31G(d): A popular model chemistry combining the B3LYP functional (a hybrid DFT method) with the 6-31G(d) basis set. Widely used for organic molecules and reaction mechanisms.\n",
        "\n",
        "MP2/cc-pVTZ: Møller-Plesset perturbation theory (second-order) with the correlation-consistent polarized valence triple-zeta basis set, used for more accurate calculations involving electron correlation."
      ],
      "metadata": {
        "id": "SHiM4D2QcoTq"
      }
    },
    {
      "cell_type": "markdown",
      "source": [
        "#### 1.1.4.6 Conclusions About Model Chemistry"
      ],
      "metadata": {
        "id": "qWx_TPQcZ4Rw"
      }
    },
    {
      "cell_type": "markdown",
      "source": [
        "The phrase \"model chemistry\" in computational chemistry encapsulates the theoretical and practical choices made in a computational study. It combines the method (e.g., DFT, MP2), basis set, and any additional corrections or assumptions to form a computational approach tailored to the specific problem being studied. The goal is to achieve a balance between accuracy and computational feasibility appropriate to the chemical question at hand."
      ],
      "metadata": {
        "id": "IaDGtL4vc5LK"
      }
    },
    {
      "cell_type": "markdown",
      "source": [
        "## 1.2 Investigating Calculations and Relationship to Chemistry"
      ],
      "metadata": {
        "id": "8juLWskBXSEK"
      }
    },
    {
      "cell_type": "markdown",
      "source": [
        "### 1.2.1 Coordinate Scan to Reproduce a Familiar Conformational Analysis"
      ],
      "metadata": {
        "id": "STyGoReAXSGm"
      }
    },
    {
      "cell_type": "markdown",
      "source": [
        "We will start by determining (more rigorously than we ever have in the past), the conformational analysis of ethane.\n",
        "\n",
        "Start by running the code-cell shown below by either: 1) selecting the cell and hitting shift-enter, or by pushing the play button that appears when you hover over the \"[ ]\". Note: it will take approximately 30 seconds to run and will tell you that your session crashed (a session reboot is included in the code and is required for the installation to succeed). Fortunately, you won't need to rerun this unless your \"runtime\" becomes disconnected (usually due to inactivity)."
      ],
      "metadata": {
        "id": "GqGGRsLGXSI-"
      }
    },
    {
      "cell_type": "code",
      "source": [
        "!pip install -q condacolab # This installs a package known as Condalab\n",
        "# Condalab allows us to easily install psi4\n",
        "!pip install py3Dmol\n",
        "import py3Dmol\n",
        "import condacolab\n",
        "condacolab.install()\n"
      ],
      "metadata": {
        "id": "IKTXrQnIXQlg"
      },
      "execution_count": null,
      "outputs": []
    },
    {
      "cell_type": "markdown",
      "source": [
        "Now we will import some libraries and install some other important packages, including Psi4. (Run the cell below) Note: it will take approximately 2 minutes to run. Fortunately, you won't need to rerun this unless your \"runtime\" becomes disconnected (usually due to inactivity)."
      ],
      "metadata": {
        "id": "hZOdS8lMh3h1"
      }
    },
    {
      "cell_type": "code",
      "source": [
        "import subprocess\n",
        "import sys\n",
        "subprocess.run(\"rm -rf /usr/local/conda-meta/pinned\", shell=True)\n",
        "subprocess.run(\"pip -q install py3Dmol\", shell=True)\n",
        "subprocess.run(\"!mamba install -c anaconda intel-openmp\", shell=True)\n",
        "subprocess.run(\"conda config --add channels http://conda.anaconda.org/psi4\", shell=True)\n",
        "subprocess.run(\"mamba install psi4 resp -c conda-forge/label/libint_dev -c conda-forge\", shell=True)\n",
        "subprocess.run(\"pip install rdkit-pypi\", shell=True)\n",
        "subprocess.run(\"pip install Cython\", shell=True)\n",
        "subprocess.run(\"mamba install -c conda-forge parmed -y\", shell=True)\n",
        "subprocess.run(\"mamba install -c conda-forge openbabel -y\", shell=True)\n",
        "\n",
        "import os\n",
        "import psi4\n",
        "import numpy as np\n",
        "import pandas as pd\n",
        "from matplotlib import pyplot as plt\n",
        "import resp\n",
        "import openbabel as ob\n",
        "from rdkit import Chem\n",
        "from rdkit.Chem import AllChem"
      ],
      "metadata": {
        "id": "kjD5ZdpJhsSi"
      },
      "execution_count": null,
      "outputs": []
    },
    {
      "cell_type": "markdown",
      "source": [
        "Now we will import a library that allows for interactive display of molecules (run the cell below)."
      ],
      "metadata": {
        "id": "XZCHVfaO2Fgj"
      }
    },
    {
      "cell_type": "code",
      "source": [
        "try:\n",
        "  import py3Dmol\n",
        "except:\n",
        "  !pip install py3Dmol\n",
        "  import py3Dmol"
      ],
      "metadata": {
        "id": "BnFIhB2VjvKH"
      },
      "execution_count": null,
      "outputs": []
    },
    {
      "cell_type": "markdown",
      "source": [
        "We will now define our desired geometry (run the cell below)."
      ],
      "metadata": {
        "id": "FpnFCz6Zi0AX"
      }
    },
    {
      "cell_type": "code",
      "source": [
        "geometry = \"\"\"\n",
        "C\n",
        "C 1 1.5307\n",
        "H 1 1.0936 2 111.3578\n",
        "H 1 1.0936 2 111.3578 3 120\n",
        "H 1 1.0936 2 111.3578 3 240\n",
        "H 2 1.0936 1 111.3578 3 60\n",
        "H 2 1.0936 1 111.3578 3 180\n",
        "H 2 1.0936 1 111.3578 3 300\n",
        "\"\"\""
      ],
      "metadata": {
        "id": "J5yR1dbxiBBv"
      },
      "execution_count": null,
      "outputs": []
    },
    {
      "cell_type": "markdown",
      "source": [
        "and we will create a Psi4 ethane \"object\" (run the cell below), run an energy calculation at the HF (SCF)/6-31G level of theory, and save that output to a file titled \"ethane.molden\"."
      ],
      "metadata": {
        "id": "hCHSvaAMjBA5"
      }
    },
    {
      "cell_type": "code",
      "source": [
        "ethane = psi4.geometry(geometry)\n",
        "E, wfn = psi4.energy('scf/6-31g',molecule=ethane, return_wfn=True)\n",
        "psi4.molden(wfn,'ethane.molden')\n",
        "ethane.save_xyz_file('ethane.xyz',0)"
      ],
      "metadata": {
        "id": "4-k2ZRgYjAER"
      },
      "execution_count": null,
      "outputs": []
    },
    {
      "cell_type": "markdown",
      "source": [
        "Let's visualize the output of the above calculation in an interactive fashion (run the cell below). Note that you can click and drag to rotate the molecule. What other mouse inputs affect the molecule?"
      ],
      "metadata": {
        "id": "v86F3-s72Wt9"
      }
    },
    {
      "cell_type": "code",
      "source": [
        "view = py3Dmol.view()\n",
        "view.addModel(open('ethane.xyz', 'r').read(),'xyz')\n",
        "view.setBackgroundColor('white')\n",
        "view.setStyle({'stick':{'radius' : 0.2}, 'sphere':{'scale' : 0.3}})\n",
        "view.zoomTo()\n",
        "view.show()"
      ],
      "metadata": {
        "id": "0kgKSFZBi-hP"
      },
      "execution_count": null,
      "outputs": []
    },
    {
      "cell_type": "markdown",
      "source": [
        "Next we will carry out our coordinate scan. We are doing this by manually changing the H-C-C-H dihedral angle that rotates one methyl group relative to the other. When you run the cell below you will see that a dihedral angle and associated energy is printed."
      ],
      "metadata": {
        "id": "krbYaSRX27m7"
      }
    },
    {
      "cell_type": "code",
      "source": [
        "x = []\n",
        "y = []\n",
        "\n",
        "dihedrals = np.arange (0,370, 10)\n",
        "for d in dihedrals:\n",
        "    geometry = f\"\"\"\n",
        "    C\n",
        "    C 1 1.5307\n",
        "    H 1 1.0936 2 111.3578\n",
        "    H 1 1.0936 2 111.3578 3 120\n",
        "    H 1 1.0936 2 111.3578 3 240\n",
        "    H 2 1.0936 1 111.3578 3 {d}\n",
        "    H 2 1.0936 1 111.3578 3 {d+120}\n",
        "    H 2 1.0936 1 111.3578 3 {d+240}\n",
        "    \"\"\"\n",
        "\n",
        "    ethane = psi4.geometry(geometry)\n",
        "    E, wfn = psi4.energy('scf/6-31g',molecule=ethane, return_wfn=True)\n",
        "    print (d,E)\n",
        "    x.append(d)\n",
        "    y.append(E)"
      ],
      "metadata": {
        "id": "6AdP6wu9p9c1"
      },
      "execution_count": null,
      "outputs": []
    },
    {
      "cell_type": "markdown",
      "source": [
        "Now we are going to plot the energy as a function of dihedral angle. I am also going to run a couple of other commands to put the energy in more understandable units (kcal/mol) and plot a smooth curve that fits the set of points above."
      ],
      "metadata": {
        "id": "7cXQvtAy_kg-"
      }
    },
    {
      "cell_type": "code",
      "source": [
        "from scipy.interpolate import make_interp_spline, BSpline\n",
        "\n",
        "new_y = []\n",
        "for i in y:\n",
        "  new_y.append(627.51*(i-min(y)))\n",
        "\n",
        "xnew = np.linspace(min(x), max(x), 300)\n",
        "spl = make_interp_spline(x, new_y, k=3)  # type: BSpline\n",
        "power_smooth = spl(xnew)\n",
        "plt.plot(xnew, power_smooth, color='red', label=\"smooth energy function\")\n",
        "plt.scatter(x,new_y, label=\"energy values calculated above\")\n",
        "plt.legend(loc='lower center', bbox_to_anchor=(0.5, -0.25),\n",
        "          ncol=3, fancybox=True, shadow=True)\n",
        "plt.title('ethane energy as a function of dihedral angle')\n",
        "plt.xlabel('dihedral angle')\n",
        "plt.ylabel('relative energy [kcal/mol]')\n",
        "plt.savefig('ethane_dihedral_energy.png', bbox_inches='tight')"
      ],
      "metadata": {
        "id": "4NNaDv4K235Q"
      },
      "execution_count": null,
      "outputs": []
    },
    {
      "cell_type": "markdown",
      "source": [
        "Note that the code above saved this figure as \"Ethane.png\" into your folder. This figure could be downloaded and incorporated into, e.g., a lab report, journal manuscript, or powerpoint presentation.ethane_dihedral_energy.png"
      ],
      "metadata": {
        "id": "P6tuO1Ce_y6p"
      }
    },
    {
      "cell_type": "markdown",
      "source": [
        "### 1.2.2 Coordinate Scan to Determine Conjugation Energy"
      ],
      "metadata": {
        "id": "l8IE3WjSBI6H"
      }
    },
    {
      "cell_type": "markdown",
      "source": [
        "Now we will utilize what we just learned to map the energy profile when we rotate around a central C-C bond between two $\\pi$-bonds using a molecule of acrolein (pronounce a-kruh-leen).\n",
        "\n"
      ],
      "metadata": {
        "id": "wYhsuC0zBZgh"
      }
    },
    {
      "cell_type": "markdown",
      "source": [
        "#### 1.2.2.1 Packages and Functions"
      ],
      "metadata": {
        "id": "J9_PGrLRugEO"
      }
    },
    {
      "cell_type": "markdown",
      "source": [
        "First, we will import a library and set some functions that will help us get geometry files for structures from a helpful database: [Pubchem](https://pubchem.ncbi.nlm.nih.gov/)."
      ],
      "metadata": {
        "id": "8SBpmB-NB_C0"
      }
    },
    {
      "cell_type": "code",
      "source": [
        "!pip install pubchempy # Install interface to PubChem (https://pubchem.ncbi.nlm.nih.gov/) a huge repository of chemical compounds and associated data\n",
        "import pubchempy as pcp # import the PubChem interface\n",
        "import math"
      ],
      "metadata": {
        "id": "aRqxGiZ1CpSO"
      },
      "execution_count": null,
      "outputs": []
    },
    {
      "cell_type": "code",
      "source": [
        "def search_pubchem(compound: str) -> int: # This function searches PubChem for a record based upon a name\n",
        "    \"\"\"Search PubChem for a given compound and return its CID.\"\"\"\n",
        "    try:\n",
        "        result = pcp.get_compounds(compound, 'name', record_type='3d')[0]\n",
        "        return result.cid\n",
        "    except (IndexError, pcp.PubChemHTTPError) as e:\n",
        "        print(f\"Error searching PubChem for {compound}: {e}\")\n",
        "        return None"
      ],
      "metadata": {
        "id": "MRK4aksMCs2L"
      },
      "execution_count": null,
      "outputs": []
    },
    {
      "cell_type": "code",
      "source": [
        "def get_cart(name): # This function retrieves data from PubChem and formats Cartesian coordinates for running quantum chemical calculations\n",
        "    cid = search_pubchem(name)\n",
        "    compound = pcp.Compound.from_cid(cid, record_type='3d')\n",
        "    dict = compound.to_dict(properties=['atoms'])\n",
        "    cart_str = \"\"\n",
        "    for counter in range(len(compound.elements)):\n",
        "        element = str(dict['atoms'][counter]['element'])\n",
        "        x_pos = dict['atoms'][counter]['x']\n",
        "        y_pos = dict['atoms'][counter]['y']\n",
        "        z_pos = dict['atoms'][counter]['z']\n",
        "        cart_str = cart_str + ( \"%s %12.6f %12.6f %12.6f\\n\" % ( element, x_pos, y_pos, z_pos ) )\n",
        "    return cart_str"
      ],
      "metadata": {
        "id": "2jQ0IlMqCs40"
      },
      "execution_count": null,
      "outputs": []
    },
    {
      "cell_type": "code",
      "source": [
        "def product_dist(T, energies): # This function converts a set of relative energies to a product distribution\n",
        "    R = 0.0019872036 # Ideal gas constant in kcal/mol*K\n",
        "    coeffs = [ math.exp(-1*i / (R*T)) for i in energies ]\n",
        "    coeffs_norm = [ 100*i / sum(coeffs) for i in coeffs ]\n",
        "    return coeffs_norm"
      ],
      "metadata": {
        "id": "Lim0XjeczhQ_"
      },
      "execution_count": null,
      "outputs": []
    },
    {
      "cell_type": "code",
      "source": [
        "def energy_electronic2kcal(product_energies): # This function converts electronic energies to energies in kcal/mol\n",
        "    product_energies_kcal = [ 627.509 * i for i in product_energies ]\n",
        "    product_energies_kcal_rel = [ i - min(product_energies_kcal) for i in product_energies_kcal ]\n",
        "    return product_energies_kcal_rel"
      ],
      "metadata": {
        "id": "CnrqCR235Etr"
      },
      "execution_count": null,
      "outputs": []
    },
    {
      "cell_type": "code",
      "source": [
        "def eq_dist(energy, T):\n",
        "  # n1 + n2 = 1\n",
        "  R = 0.0019872 # kcal/K*mol\n",
        "  expon = (-energy)/(R*T)\n",
        "  ratio = math.exp(expon)\n",
        "  n1 = 1/(1+ratio)\n",
        "  n2 = 1-n1\n",
        "  print(f'The energy difference {energy} kcal/mol at temperature of {T} K')\n",
        "  print(f'gives a ratio of {round(100*n1, 1)} % to {round(100*n2, 1)}%.')"
      ],
      "metadata": {
        "id": "MryzSgrGZRNs"
      },
      "execution_count": null,
      "outputs": []
    },
    {
      "cell_type": "markdown",
      "source": [
        "#### 1.2.2.2 Define and View Acrolein"
      ],
      "metadata": {
        "id": "PTiJBpg6umIr"
      }
    },
    {
      "cell_type": "markdown",
      "source": [
        "Below we define acrolein in an approach that will allow us to rotate around the $C_1-C_2$ bond (remember $C_1$ is the carbonyl carbon):"
      ],
      "metadata": {
        "id": "jXsndxkovBZX"
      }
    },
    {
      "cell_type": "code",
      "source": [
        "d=0.0\n",
        "geometry = f\"\"\"\n",
        "    C\n",
        "    C 1 1.3340\n",
        "    C 2 1.4753 1 121.2790\n",
        "    O 3 1.2086 2 124.2990 1 {d}\n",
        "    H 1 1.0865 2 120.9669 3 0.000\n",
        "    H 1 1.0835 2 122.2566 3 180.0\n",
        "    H 2 1.0856 3 116.3009 4 {d+180}\n",
        "    H 3 1.1130 2 114.4828 1 {d+180}\n",
        "    \"\"\"\n",
        "acrolein = psi4.geometry(geometry)\n",
        "E, wfn = psi4.energy('scf/6-31g',molecule=acrolein, return_wfn=True)\n",
        "psi4.molden(wfn,'acrolein.molden')\n",
        "acrolein.save_xyz_file('acrolein.xyz',0)\n",
        "\n",
        "view = py3Dmol.view()\n",
        "view.addModel(open('acrolein.xyz', 'r').read(),'xyz')\n",
        "view.setBackgroundColor('white')\n",
        "view.setStyle({'stick':{'radius' : 0.2}, 'sphere':{'scale' : 0.3}})\n",
        "view.zoomTo()\n",
        "view.show()"
      ],
      "metadata": {
        "id": "MYDN2cfBHVvg"
      },
      "execution_count": null,
      "outputs": []
    },
    {
      "cell_type": "markdown",
      "source": [
        "#### 1.2.2.3 Rotate Around the $C_1-C_2$ Bond"
      ],
      "metadata": {
        "id": "byjQbYYOvjeJ"
      }
    },
    {
      "cell_type": "markdown",
      "source": [
        "Now we are going to rotate around the $C_1-C_2$ bond in 10$^{\\circ}$ increments and the energy will print at each step:"
      ],
      "metadata": {
        "id": "SybS4nNzvVBN"
      }
    },
    {
      "cell_type": "code",
      "source": [
        "x = []\n",
        "y = []\n",
        "\n",
        "dihedrals = np.arange (0,370, 10)\n",
        "for d in dihedrals:\n",
        "    geometry = f\"\"\"\n",
        "    C\n",
        "    C 1 1.3340\n",
        "    C 2 1.4753 1 121.2790\n",
        "    O 3 1.2086 2 124.2990 1 {d}\n",
        "    H 1 1.0865 2 120.9669 3 0.000\n",
        "    H 1 1.0835 2 122.2566 3 180.0\n",
        "    H 2 1.0856 3 116.3009 4 {d+180}\n",
        "    H 3 1.1130 2 114.4828 1 {d+180}\n",
        "    \"\"\"\n",
        "\n",
        "    acrolein = psi4.geometry(geometry)\n",
        "    E, wfn = psi4.energy('scf/6-31g',molecule=acrolein, return_wfn=True)\n",
        "    print (d,E)\n",
        "    x.append(d)\n",
        "    y.append(E)"
      ],
      "metadata": {
        "id": "BesGminHEM0-"
      },
      "execution_count": null,
      "outputs": []
    },
    {
      "cell_type": "markdown",
      "source": [
        "#### 1.2.2.4 Plot the Results"
      ],
      "metadata": {
        "id": "8RI_ZVfNvy7o"
      }
    },
    {
      "cell_type": "markdown",
      "source": [
        "Here we use a python plotting program (\"matplotlib\") to view the computed energy as a function of rotation around the $C_1-C_2$ bond:"
      ],
      "metadata": {
        "id": "U-pzSRcav4MC"
      }
    },
    {
      "cell_type": "code",
      "source": [
        "from matplotlib import pyplot as plt\n",
        "from scipy.interpolate import make_interp_spline, BSpline\n",
        "\n",
        "new_y = []\n",
        "for i in y:\n",
        "  new_y.append(627.51*(i-min(y)))\n",
        "\n",
        "xnew = np.linspace(min(x), max(x), 300)\n",
        "spl = make_interp_spline(x, new_y, k=3)  # type: BSpline\n",
        "power_smooth = spl(xnew)\n",
        "plt.plot(xnew, power_smooth, color='red', label=\"smooth energy function\")\n",
        "plt.scatter(x,new_y, label=\"energy values calculated above\")\n",
        "plt.legend(loc='lower center', bbox_to_anchor=(0.5, -0.25),\n",
        "          ncol=3, fancybox=True, shadow=True)\n",
        "plt.title('acrolein energy as a function of C-C-C-O dihedral angle')\n",
        "plt.xlabel('dihedral angle')\n",
        "plt.ylabel('relative energy [kcal/mol]')\n",
        "plt.savefig('acrolein_dihedral_energy.png', bbox_inches='tight')"
      ],
      "metadata": {
        "id": "kkf_qnzpG9b9"
      },
      "execution_count": null,
      "outputs": []
    },
    {
      "cell_type": "markdown",
      "source": [
        "From the plot above, we can determine the difference in energy between the S-Cis and S-trans forms of acrolein (in kcal/mol):"
      ],
      "metadata": {
        "id": "P9U30FHKJxRQ"
      }
    },
    {
      "cell_type": "code",
      "source": [
        "print(f'Energy difference between S-Cis and S-Trans: {round(new_y[0],2)} kcal/mol')"
      ],
      "metadata": {
        "id": "v-pgfq_xIvo1"
      },
      "execution_count": null,
      "outputs": []
    },
    {
      "cell_type": "markdown",
      "source": [
        "We can also estimate the energy benefit of conjugation [by comparing the S-trans (angle = 180) to the structure with an angle = 90):"
      ],
      "metadata": {
        "id": "T4jib2YjKCrA"
      }
    },
    {
      "cell_type": "code",
      "source": [
        "print(f'Energy difference between S-Trans and non-conjugated form: {round(max(new_y),3)} kcal/mol')"
      ],
      "metadata": {
        "id": "_hCcy7d2I5-G"
      },
      "execution_count": null,
      "outputs": []
    },
    {
      "cell_type": "markdown",
      "source": [
        "#### 1.2.2.5 Tabulated Data in Python"
      ],
      "metadata": {
        "id": "WHCETfjmwKMz"
      }
    },
    {
      "cell_type": "markdown",
      "source": [
        "Let's now also introduce pandas dataframes, which are essentially tables, by tabulating the dihedral angle in acrolein with its relative energy:"
      ],
      "metadata": {
        "id": "N3suHQYUBZk6"
      }
    },
    {
      "cell_type": "code",
      "source": [
        "import pandas as pd\n",
        "acrolein_df = pd.DataFrame(columns = ['dihedral', 'energy [kcal/mol]'])\n",
        "acrolein_df['dihedral'] = x\n",
        "acrolein_df['energy [kcal/mol]'] = new_y\n",
        "    # [x, y])\n",
        "acrolein_df.head(19)"
      ],
      "metadata": {
        "id": "BTc50CalHUbS"
      },
      "execution_count": null,
      "outputs": []
    },
    {
      "cell_type": "markdown",
      "source": [
        "We can access information in a dataframe using the row index (the bold number next to each row). The code below takes a row_index and output the associated energy. Change the row index to determine the energy of the S-Cis (dihedral = 0), S-Trans (dihedral = 180), and non-conjugated form (dihedral = 90) of acrolein."
      ],
      "metadata": {
        "id": "BxRnm00ZBZnH"
      }
    },
    {
      "cell_type": "code",
      "source": [
        "row_index = 0\n",
        "print(acrolein_df.iloc[row_index])"
      ],
      "metadata": {
        "id": "k-2C7TigMQuv"
      },
      "execution_count": null,
      "outputs": []
    },
    {
      "cell_type": "markdown",
      "source": [
        "Energy of S-Cis conformer: (student input) kcal/mol\n",
        "Energy of S-Trans conformer: (student input) kcal/mol\n",
        "Energy of non-conjugated conformer: (student input) kcal/mol"
      ],
      "metadata": {
        "id": "pKCJ3bL8BZpK"
      }
    },
    {
      "cell_type": "markdown",
      "source": [
        "#### 1.2.2.6 Energy Differences and Equilibrium Population"
      ],
      "metadata": {
        "id": "TYSqp50Nomt1"
      }
    },
    {
      "cell_type": "markdown",
      "source": [
        "Let's put the energy between S-Cis and S-Trans conformations into chemically significant context."
      ],
      "metadata": {
        "id": "Voc908-OoxVv"
      }
    },
    {
      "cell_type": "markdown",
      "source": [
        "First, let us remember that S-Cis and S-Trans isomers will be in equilibrium at reasonable temperatures:\n",
        "\n",
        "$A \\rightleftharpoons B \\tag{1.2.2a}$"
      ],
      "metadata": {
        "id": "6kP-XI69o2Aj"
      }
    },
    {
      "cell_type": "markdown",
      "source": [
        "and we can express the equilibrium distribution using the familiar equation:\n",
        "\n",
        "$K_{eq} = \\frac{[B]}{[A]} \\tag{1.2.2b}$"
      ],
      "metadata": {
        "id": "3oUEHLWzpFgV"
      }
    },
    {
      "cell_type": "markdown",
      "source": [
        "You may also remember that the equilibrium constant is related to energy by the following:\n",
        "\n",
        "$\\Delta G = -RTln(K_{eq}) \\tag{1.2.2c}$"
      ],
      "metadata": {
        "id": "PkNRFufCpThG"
      }
    },
    {
      "cell_type": "markdown",
      "source": [
        "Which we will rearrange, first by dividing both sides by '-RT':\n",
        "\n",
        "$\\frac{-\\Delta G}{RT} = ln(K_{eq}) \\tag{1.2.2d}$"
      ],
      "metadata": {
        "id": "Qu9OX3vfpdJS"
      }
    },
    {
      "cell_type": "markdown",
      "source": [
        "then take the exponent of both sides to give:\n",
        "\n",
        "$e^{\\frac{-\\Delta G}{RT}} = K_{eq} \\tag{1.2.2e}$"
      ],
      "metadata": {
        "id": "WY52oZxOpjCa"
      }
    },
    {
      "cell_type": "markdown",
      "source": [
        "Incorporating equation 1.2.2e with 1.2.2b, we get:\n",
        "\n",
        "$\\frac{[B]}{[A]} = e^{\\frac{-\\Delta G}{RT}} \\tag{1.2.2f}$"
      ],
      "metadata": {
        "id": "mfH3qxv1tgL3"
      }
    },
    {
      "cell_type": "markdown",
      "source": [
        "and if we assume that A and B are the only two possible species, then 100% of our compound must be A or B, in other words:\n",
        "\n",
        "$[A] + [B] = 100\\% \\tag{1.2.2g}$\n"
      ],
      "metadata": {
        "id": "T2k33peUtsxU"
      }
    },
    {
      "cell_type": "markdown",
      "source": [
        "This allows us to solve the fractional distribution between A and B.\n",
        "\n",
        "I have written a function that does this, called \"eq_dist,\" that takes a particular temperature and energy difference as its argument and returns the amount of A and B:"
      ],
      "metadata": {
        "id": "XCdb1w78qJTa"
      }
    },
    {
      "cell_type": "code",
      "source": [
        "delta_H = (insert number) # energy of reaction in kcal/mol\n",
        "T = 293.15\n",
        "eq_dist(delta_H, T)"
      ],
      "metadata": {
        "id": "qTxUYycvk21x"
      },
      "execution_count": null,
      "outputs": []
    },
    {
      "cell_type": "markdown",
      "source": [
        "At 293.15 K, S-cis is present at (student response) % and S-trans at (student response) %."
      ],
      "metadata": {
        "id": "hEUSFJ7JsF-v"
      }
    },
    {
      "cell_type": "markdown",
      "source": [
        "At 373.15 K, S-cis is present at (student response) % and S-trans at (student response) %."
      ],
      "metadata": {
        "id": "9BeVmjW1sYoM"
      }
    },
    {
      "cell_type": "markdown",
      "source": [
        "What changes about the distribution of S-Cis vs S-Trans at 20$^{\\circ}$C vs 100$^{\\circ}$C?"
      ],
      "metadata": {
        "id": "6cb1C2zMuFMD"
      }
    },
    {
      "cell_type": "markdown",
      "source": [
        "(student response)"
      ],
      "metadata": {
        "id": "0aTv6JwfuZDh"
      }
    },
    {
      "cell_type": "markdown",
      "source": [
        "#### 1.2.2.7 Energy Difference and [A]/[B]"
      ],
      "metadata": {
        "id": "EVRlUr7FxAtt"
      }
    },
    {
      "cell_type": "markdown",
      "source": [
        "Now we will view the proportion of A and B at equilibrium as a function of their difference in energy (at a fixed temperature of 20$^{\\circ}$C):"
      ],
      "metadata": {
        "id": "zZBms7TIxKom"
      }
    },
    {
      "cell_type": "code",
      "source": [
        "coeffs = []\n",
        "coeff1 = []\n",
        "energy_diff = []\n",
        "delt_G = np.arange(-10,10,0.1)\n",
        "# trivial_E = np.zeros(len(delt_G))\n",
        "T = 298.15\n",
        "for i in range(len(delt_G)):\n",
        "    energy_diff = [0.0, delt_G[i]]\n",
        "    coeff1 = product_dist(T,energy_diff)[0]\n",
        "    coeffs = np.append(coeffs, coeff1)\n",
        "\n",
        "plt.title(\"Proportion of A as a Function of Energy Difference\")\n",
        "plt.xlabel(\"Energy Difference (kcal/mol)\")\n",
        "plt.ylabel(\"Proportion of A\")\n",
        "\n",
        "plt.plot(delt_G, coeffs, marker=\"o\") #color=\"red\")\n",
        "plt.show()"
      ],
      "metadata": {
        "id": "tRJLxKUkxKAM"
      },
      "execution_count": null,
      "outputs": []
    },
    {
      "cell_type": "markdown",
      "source": [
        "Most chemists commit to memory the ratio of two molecules when their energy difference equals 1.0, 2.0, and 3.0 kcal/mol (at 20$^{\\circ}$C). Use the \"eq_dist\" function to determine the A:B ratio at each of these energy differences:"
      ],
      "metadata": {
        "id": "rltqcO420De5"
      }
    },
    {
      "cell_type": "code",
      "source": [
        "delta_H = 1.0 # energy of reaction in kcal/mol\n",
        "T = 293.15\n",
        "eq_dist(delta_H, T)"
      ],
      "metadata": {
        "id": "GTqR7tFz0aGR"
      },
      "execution_count": null,
      "outputs": []
    },
    {
      "cell_type": "markdown",
      "source": [
        "%A:%B ratio at:\n",
        "\n",
        "1.0 kcal/mol: (student response)\n",
        "\n",
        "2.0 kcal/mol: (student response)\n",
        "\n",
        "3.0 kcal/mol: (student response)"
      ],
      "metadata": {
        "id": "4IDq_36D0dUR"
      }
    },
    {
      "cell_type": "markdown",
      "source": [
        "### 1.2.3 Energy of Pinacol Rearrangement"
      ],
      "metadata": {
        "id": "ksl3gfC2BZrb"
      }
    },
    {
      "cell_type": "markdown",
      "source": [
        "In this section we will look back on the pinacol rearrangement experiment we carried out recently:\n",
        "\n",
        "![equation2747802561613201433.png](data:image/png;base64,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)"
      ],
      "metadata": {
        "id": "Coe0rOUnBZta"
      }
    },
    {
      "cell_type": "markdown",
      "source": [
        "We will determine the energy for this reaction. First we must remember that the energy of reaction depends on the energy of the reactant(s) and product(s) in the following manner:\n",
        "$ΔH_{reaction} = H_{product(s)} - H_{reactant(s)}$.\n",
        "Here $H_{reactant(s)}$ is simply the energy for benzopinacol, while $H_{product(s)}$ corresponds to the energy of benzopinacolone plus the energy for water."
      ],
      "metadata": {
        "id": "jlgoPiuwBZvt"
      }
    },
    {
      "cell_type": "markdown",
      "source": [
        "First we will define a list of the important compounds, create an empty table to hold our data, and create a function that, upon being provided a compound name, it: 1) retrieves coordinates from the [Pubchem database](https://pubchem.ncbi.nlm.nih.gov/), runs a geometry optimization, saves all the important information to appropriate files, adds data to the table we created, and displays the output geometry."
      ],
      "metadata": {
        "id": "sZP2gLoulaBa"
      }
    },
    {
      "cell_type": "code",
      "source": [
        "species = [ 'benzopinacol', 'benzopinacolone', 'water' ]\n",
        "pinacol_rxn_df = pd.DataFrame(columns = ['Name', 'Energy [Eh]'])"
      ],
      "metadata": {
        "id": "daNX8fyzdOva"
      },
      "execution_count": null,
      "outputs": []
    },
    {
      "cell_type": "code",
      "source": [
        "def opt_and_view_mol(name):\n",
        "  coords = get_cart(name)\n",
        "  mol = psi4.geometry(coords)\n",
        "  E, wfn = psi4.energy('scf/6-31g',molecule=mol, return_wfn=True)\n",
        "  psi4.molden(wfn,f'{name}.molden')\n",
        "  mol.save_xyz_file(f'{name}.xyz',0)\n",
        "  pinacol_rxn_df.loc[len(pinacol_rxn_df.index)] = [name, E]\n",
        "\n",
        "  view = py3Dmol.view()\n",
        "  view.addModel(open(f'{name}.xyz', 'r').read(),'xyz')\n",
        "  view.setBackgroundColor('white')\n",
        "  view.setStyle({'stick':{'radius' : 0.2}, 'sphere':{'scale' : 0.3}})\n",
        "  view.zoomTo()\n",
        "  view.show()"
      ],
      "metadata": {
        "id": "P1yrR7Npdn7E"
      },
      "execution_count": null,
      "outputs": []
    },
    {
      "cell_type": "markdown",
      "source": [
        "The code below runs through the list of compounds we created above (called \"species\") and runs the function for each, then displays our data table. Note: this code takes approximately 5 minutes to complete (be patient)."
      ],
      "metadata": {
        "id": "BC-TxXu3l0Zk"
      }
    },
    {
      "cell_type": "code",
      "source": [
        "for mol in species:\n",
        "  opt_and_view_mol(mol)\n",
        "\n",
        "pinacol_rxn_df"
      ],
      "metadata": {
        "id": "p-puJennegA8"
      },
      "execution_count": null,
      "outputs": []
    },
    {
      "cell_type": "markdown",
      "source": [
        "You will notice that we have the reactant and both products in the table above. So now we will determine the energy of reaction (in kcal/mol):"
      ],
      "metadata": {
        "id": "06ciRJ17mICh"
      }
    },
    {
      "cell_type": "code",
      "source": [
        "energy_reactant = pinacol_rxn_df.loc[0, 'Energy [Eh]']\n",
        "energy_products = pinacol_rxn_df.loc[1, 'Energy [Eh]'] + pinacol_rxn_df.loc[2, 'Energy [Eh]']\n",
        "delta_H_rxn = 627.51*(energy_products - energy_reactant)\n",
        "print(f'Energy of reaction: {round(delta_H_rxn, 2)} kcal/mol')"
      ],
      "metadata": {
        "id": "P8XOm4AccRky"
      },
      "execution_count": null,
      "outputs": []
    },
    {
      "cell_type": "markdown",
      "source": [
        "Is this reaction exothermic or endothermic? What implications does this have for the experiment that we carried out?"
      ],
      "metadata": {
        "id": "d3DvYpmcnMjf"
      }
    },
    {
      "cell_type": "markdown",
      "source": [
        "(student response)"
      ],
      "metadata": {
        "id": "fQiYuiFenStx"
      }
    },
    {
      "cell_type": "markdown",
      "source": [
        "We can use the same function we called on earlier to determine the equilibrium distribution between reactant and product here:"
      ],
      "metadata": {
        "id": "mPajIHu8ssFv"
      }
    },
    {
      "cell_type": "code",
      "source": [
        "delta_H = (insert number) # energy of reaction in kcal/mol\n",
        "T = 293.15\n",
        "eq_dist(delta_H, T)"
      ],
      "metadata": {
        "id": "SQMgB9ybsyCr"
      },
      "execution_count": null,
      "outputs": []
    },
    {
      "cell_type": "markdown",
      "source": [
        "What is the interpretation of the number above? How much product should we get?"
      ],
      "metadata": {
        "id": "aQJ_JP5us_eP"
      }
    },
    {
      "cell_type": "markdown",
      "source": [
        "(student response)"
      ],
      "metadata": {
        "id": "4MJTsIz1tEcg"
      }
    },
    {
      "cell_type": "markdown",
      "source": [
        "### 1.2.4 Energy and Competition Between Pathways"
      ],
      "metadata": {
        "id": "l9tJYZgM1U7D"
      }
    },
    {
      "cell_type": "markdown",
      "source": [
        "We will investigate the elimination pathways for 2-chlorobutane. Elimination of H-Cl from 2-chlorobutane can form either of two regioisomers (1-butene or 2-butene), and one of those products can be formed in either of two stereoisomers [(Z)-2-butene or (E)-2-butene].\n",
        "\n",
        "$2-chlorobutane + base \\rightarrow (E)-2-butene + (Z)-2-butene + 1-butene + H-B + Cl^-$\n",
        "\n",
        "We are going to do a quantum chemical analysis of the distribution of those three products, assuming they are in equilibrium. We will also assume 100% consumption of the reactant (2-chlorobutane), which allows us to drop it out of the equilibrium consideration. Further, since the base used is presumably the same regardless of which of the three products we can drop that out of the equilibrium expression as well, i.e., what we are left with is:\n",
        "\n",
        "$(E)-2-butene \\rightleftharpoons (Z)-2-butene \\rightleftharpoons 1-butene$"
      ],
      "metadata": {
        "id": "rVfk17lH1ubk"
      }
    },
    {
      "cell_type": "markdown",
      "source": [
        "#### 1.2.4.1 Reactant and Products Quantum Calculations"
      ],
      "metadata": {
        "id": "skAlrenn3vko"
      }
    },
    {
      "cell_type": "code",
      "source": [
        "species = [ '2-chlorobutane', '1-butene', '(E)-but-2-ene', '(Z)-but-2-ene' ]\n",
        "elim_rxn_df = pd.DataFrame(columns = ['Name', 'Energy [Eh]'])"
      ],
      "metadata": {
        "id": "Ghkmy1E-E862"
      },
      "execution_count": null,
      "outputs": []
    },
    {
      "cell_type": "code",
      "source": [
        "def opt_and_view_mol(name):\n",
        "  coords = get_cart(name)\n",
        "  mol = psi4.geometry(coords)\n",
        "  E, wfn = psi4.energy('scf/6-31g',molecule=mol, return_wfn=True)\n",
        "  psi4.molden(wfn,f'{name}.molden')\n",
        "  mol.save_xyz_file(f'{name}.xyz',0)\n",
        "  elim_rxn_df.loc[len(elim_rxn_df.index)] = [name, E]\n",
        "\n",
        "  view = py3Dmol.view()\n",
        "  view.addModel(open(f'{name}.xyz', 'r').read(),'xyz')\n",
        "  view.setBackgroundColor('white')\n",
        "  view.setStyle({'stick':{'radius' : 0.2}, 'sphere':{'scale' : 0.3}})\n",
        "  view.zoomTo()\n",
        "  view.show()"
      ],
      "metadata": {
        "id": "9wvIoLWaH4Ah"
      },
      "execution_count": null,
      "outputs": []
    },
    {
      "cell_type": "code",
      "source": [
        "for mol in species:\n",
        "  opt_and_view_mol(mol)"
      ],
      "metadata": {
        "id": "GgP_ZEfjH2H5"
      },
      "execution_count": null,
      "outputs": []
    },
    {
      "cell_type": "markdown",
      "source": [
        "#### 1.2.4.2 Compilation of Energetic Data"
      ],
      "metadata": {
        "id": "K6MWctj-4adL"
      }
    },
    {
      "cell_type": "markdown",
      "source": [
        "Quantum chemical calculations determine the electronic energy. It optimizes molecular orbitals to provide the lowest energy electron configuration.\n",
        "\n",
        "The interpretation for electronic energy is the difference in energy between all nuclei and electrons infinitely separated with the ground state electron configuration."
      ],
      "metadata": {
        "id": "RhPX60Xs4auI"
      }
    },
    {
      "cell_type": "code",
      "source": [
        "elim_rxn_df"
      ],
      "metadata": {
        "id": "cBRkUptF4jvA"
      },
      "execution_count": null,
      "outputs": []
    },
    {
      "cell_type": "markdown",
      "source": [
        "Note the large energy difference between 2-chlorobutane as compared to any of the alkenes. This is due to the difference in the number of atoms (and electrons) that come along with the H and Cl atoms that are removed from the reactant. Moving on we will drop the reactant out of the table, since we are assuming 100% consumption of the reactant as one of our approximations."
      ],
      "metadata": {
        "id": "VNbIp_bl4nKv"
      }
    },
    {
      "cell_type": "markdown",
      "source": [
        "1.2.4.3.1 Energy in More Intuitive Units and Equilibrium Distribution of Products"
      ],
      "metadata": {
        "id": "xRq89jTI4sV4"
      }
    },
    {
      "cell_type": "markdown",
      "source": [
        "We will expand equations 1.1.2 to suit the current situation. What we get is:\n",
        "\n",
        "$e^{\\frac{-\\Delta G_1}{RT}} = \\frac{[(E)-2-butene]}{[2-chlorobutane]}$\n",
        "\n",
        "$e^{\\frac{-\\Delta G_2}{RT}} = \\frac{[(Z)-2-butene]}{[2-chlorobutane]}$\n",
        "\n",
        "$e^{\\frac{-\\Delta G_3}{RT}} = \\frac{[1-butene]}{[2-chlorobutane]}$\n",
        "\n",
        "and\n",
        "\n",
        "$[(E)-2-butene] + [(Z)-2-butene] + [1-butene] = 100\\%$\n",
        "\n",
        "This constitutes a series of four equations with four unknowns, hence we can uniquely determine each of the four unknown quantities. I have written some code that will first translate the electronic energies displayed above (unit = Hartrees; $E_h$) to be in kcal/mol, determine the equilibrium distribution, and tabulate this information into a relatively nice looking dataframe:"
      ],
      "metadata": {
        "id": "4J2a_a5-5diZ"
      }
    },
    {
      "cell_type": "code",
      "source": [
        "pr_df = pd.DataFrame()\n",
        "product_comps = elim_rxn_df[1:]['Name'].values\n",
        "product_energies = elim_rxn_df[1:]['Energy [Eh]'].values\n",
        "\n",
        "product_energies_kcal_rel = energy_electronic2kcal(product_energies)\n",
        "\n",
        "T = 293.15 # Temperature in K\n",
        "coeffs_norm = product_dist(T, product_energies_kcal_rel)\n",
        "\n",
        "pr_df['Possible Products'] = product_comps\n",
        "pr_df['Relative Energy (kcal/mol)'] = product_energies_kcal_rel\n",
        "pr_df['Expected % of Product'] = coeffs_norm\n",
        "pr_df"
      ],
      "metadata": {
        "id": "ktPjmIhd499S"
      },
      "execution_count": null,
      "outputs": []
    },
    {
      "cell_type": "markdown",
      "source": [
        "#### 1.2.4.2 Kinetic Control and Literature Data"
      ],
      "metadata": {
        "id": "xd3dmdeBFuBT"
      }
    },
    {
      "cell_type": "markdown",
      "source": [
        "Data were previously computed and compared to experimental data in the following work: [Saunders and Gronert, J. Org. Chem. 2015, 80, 10787-10793; 10.1021/acs.joc.5b01983](https://pubs.acs.org/doi/10.1021/acs.joc.5b01983)"
      ],
      "metadata": {
        "id": "Zey_tOQsGNKt"
      }
    },
    {
      "cell_type": "markdown",
      "source": [
        "Let's import kinetic data from the published article:"
      ],
      "metadata": {
        "id": "lZyIryybGWMk"
      }
    },
    {
      "cell_type": "code",
      "source": [
        "bases = [\n",
        "    'F\\u207B',\n",
        "    'HO\\u207B',\n",
        "    'CH\\u2083O\\u207B',\n",
        "    '(CH\\u2083)\\u2083CO\\u207B',\n",
        "    'NH\\u2082\\u207B',\n",
        "    'CH\\u2083\\u207B',\n",
        "    'H\\u207B',\n",
        "    'Cl\\u207B',\n",
        "    'HS\\u207B',\n",
        "    'PH\\u2082\\u207B'\n",
        "]\n",
        "\n",
        "but1ene_deldelH = [\n",
        "    1.6,\n",
        "    1.5,\n",
        "    1.6,\n",
        "    1.7,\n",
        "    1.9,\n",
        "    2.1,\n",
        "    2.5,\n",
        "    3.0,\n",
        "    3.2,\n",
        "    3.1\n",
        "]\n",
        "\n",
        "zbut2ene_deldelH = [\n",
        "    1.1,\n",
        "    1.1,\n",
        "    0.9,\n",
        "    0.7,\n",
        "    1.2,\n",
        "    1.1,\n",
        "    0.6,\n",
        "    1.0,\n",
        "    0.8,\n",
        "    0.8\n",
        "]\n",
        "\n",
        "ebut2ene_deldelH = [\n",
        "    0.0,\n",
        "    0.0,\n",
        "    0.0,\n",
        "    0.0,\n",
        "    0.0,\n",
        "    0.0,\n",
        "    0.0,\n",
        "    0.0,\n",
        "    0.0,\n",
        "    0.0\n",
        "]\n",
        "\n",
        "proton_affinity = [\n",
        "    372,\n",
        "    390,\n",
        "    382,\n",
        "    375,\n",
        "    403,\n",
        "    417,\n",
        "    400,\n",
        "    333,\n",
        "    351,\n",
        "    364\n",
        "]"
      ],
      "metadata": {
        "id": "ZGQ61BCLGawe"
      },
      "execution_count": null,
      "outputs": []
    },
    {
      "cell_type": "markdown",
      "source": [
        "Now let's compile these data into a nice table:"
      ],
      "metadata": {
        "id": "TFfXOYr6Gld8"
      }
    },
    {
      "cell_type": "code",
      "source": [
        "chlorobutane_exptl_df = pd.DataFrame()\n",
        "chlorobutane_exptl_df['Base'] = bases\n",
        "# chlorobutane_exptl_df = chlorobutane_exptl_df.set_index('Base')\n",
        "chlorobutane_exptl_df['(E)-2-butene'] = ebut2ene_deldelH\n",
        "chlorobutane_exptl_df['(Z)-2-butene'] = zbut2ene_deldelH\n",
        "chlorobutane_exptl_df['1-butene'] = but1ene_deldelH\n",
        "print('Relative Energy Barriers (kcal/mol) Forming Each Possible Product with Different Nucleophiles:')\n",
        "chlorobutane_exptl_df"
      ],
      "metadata": {
        "id": "-2uTMGMJGo9O"
      },
      "execution_count": null,
      "outputs": []
    },
    {
      "cell_type": "markdown",
      "source": [
        "The table above compiles the difference in energy barriers (activation energy) forming each of the three different products for several different bases.\n",
        "\n",
        "Remember the relationship (from above) between equilibrium constant and free energy difference of products:\n",
        "\n",
        "$K_{eq} = e^{\\frac{-\\Delta G}{RT}}$\n",
        "\n",
        "When dealing with activation energies, we invoke the Arrhenius equation, which has completely analogous form:\n",
        "\n",
        "$k = Ae^{\\frac{-E_a}{RT}}$\n",
        "\n",
        "Given the functional similarity between these two equations, we can utilize the same mathematical relationship to determine product distributions based solely on kinetic control (as opposed to thermodynamic control, as was done above):"
      ],
      "metadata": {
        "id": "gfGAHV8GL3-y"
      }
    },
    {
      "cell_type": "code",
      "source": [
        "perc_df = pd.DataFrame()\n",
        "e2but_perc = []\n",
        "z2but_perc = []\n",
        "but1_perc = []\n",
        "T = 293.15\n",
        "for i in range(len(chlorobutane_exptl_df.loc[:, :])):\n",
        "    coeffs_norm = product_dist(T, chlorobutane_exptl_df.iloc[i, 1:4].to_numpy())\n",
        "    e2but_perc.append(coeffs_norm[0])\n",
        "    z2but_perc.append(coeffs_norm[1])\n",
        "    but1_perc.append(coeffs_norm[2])\n",
        "perc_df['Base'] = bases\n",
        "perc_df['Proton Affinity'] = proton_affinity\n",
        "perc_df['(E)-2-butene'] = e2but_perc\n",
        "perc_df['(Z)-2-butene'] = z2but_perc\n",
        "perc_df['1-butene'] = but1_perc\n",
        "print(f\"This is the relative product distribution based on kinetic control at {T} K:\")\n",
        "perc_df"
      ],
      "metadata": {
        "id": "m_bk6jHFKtMp"
      },
      "execution_count": null,
      "outputs": []
    },
    {
      "cell_type": "markdown",
      "source": [
        "Which base provides the highest proportion of:\n",
        "\n",
        "(E)-2-butene: (student response)\n",
        "\n",
        "(Z)-2-butene: (student response)\n",
        "\n",
        "1-butene: (student response)"
      ],
      "metadata": {
        "id": "JWPnS65WK7Kt"
      }
    },
    {
      "cell_type": "markdown",
      "source": [
        "#### 1.2.4.3 Investigate Your Own Elimination Competition"
      ],
      "metadata": {
        "id": "R0Z1Vo2-7O90"
      }
    },
    {
      "cell_type": "markdown",
      "source": [
        "Now it is your turn to investigate the competition between elimination pathways. Start by brainstorming an alkyl halide that can form at least three products. Consider what characteristics of an alkyl halide allow for at least three products to be formed.\n",
        "\n",
        "I suggest that you head to [PubChem](https://pubchem.ncbi.nlm.nih.gov/) where you can search for structure by name OR with their drawing tool. Find an appropriate alkyl halide and copy the IUPAC name to the appropriate variable label below:"
      ],
      "metadata": {
        "id": "btIyRJkb7YfO"
      }
    },
    {
      "cell_type": "code",
      "source": [
        "# IUPAC Names for the reactant and EACH product:\n",
        "molecules = [ 'reactant',\n",
        "             'product 1',\n",
        "             'product 2',\n",
        "             'product 3'\n",
        "             ] # you can add as many products as necessary\n",
        "\n",
        "student_elim_rxn_df = pd.DataFrame(columns = ['Name', 'Energy [Eh]'])"
      ],
      "metadata": {
        "id": "E0FuUvBd7sI7"
      },
      "execution_count": null,
      "outputs": []
    },
    {
      "cell_type": "code",
      "source": [
        "def opt_and_view_mol(name):\n",
        "  coords = get_cart(name)\n",
        "  mol = psi4.geometry(coords)\n",
        "  E, wfn = psi4.energy('scf/6-31g',molecule=mol, return_wfn=True)\n",
        "  psi4.molden(wfn,f'{name}.molden')\n",
        "  mol.save_xyz_file(f'{name}.xyz',0)\n",
        "  student_elim_rxn_df.loc[len(student_elim_rxn_df.index)] = [name, E]\n",
        "\n",
        "  view = py3Dmol.view()\n",
        "  view.addModel(open(f'{name}.xyz', 'r').read(),'xyz')\n",
        "  view.setBackgroundColor('white')\n",
        "  view.setStyle({'stick':{'radius' : 0.2}, 'sphere':{'scale' : 0.3}})\n",
        "  view.zoomTo()\n",
        "  view.show()"
      ],
      "metadata": {
        "id": "FgRypZnB8DCr"
      },
      "execution_count": null,
      "outputs": []
    },
    {
      "cell_type": "code",
      "source": [
        "for mol in molecules:\n",
        "  opt_and_view_mol(mol)"
      ],
      "metadata": {
        "id": "1-XACPyxM45H"
      },
      "execution_count": null,
      "outputs": []
    },
    {
      "cell_type": "markdown",
      "source": [
        "View the electronic energy data:"
      ],
      "metadata": {
        "id": "PjeZ7bsvNIeZ"
      }
    },
    {
      "cell_type": "code",
      "source": [
        "student_elim_rxn_df"
      ],
      "metadata": {
        "id": "y7sT-aFANAuK"
      },
      "execution_count": null,
      "outputs": []
    },
    {
      "cell_type": "markdown",
      "source": [
        "and now let's determine the relative energy in kcal/mol and determine relative product distribution:"
      ],
      "metadata": {
        "id": "h2nwx2sNNN27"
      }
    },
    {
      "cell_type": "code",
      "source": [
        "pr_df = pd.DataFrame()\n",
        "product_comps = student_elim_rxn_df[1:]['Name'].values\n",
        "product_energies = student_elim_rxn_df[1:]['Energy [Eh]'].values\n",
        "\n",
        "product_energies_kcal_rel = energy_electronic2kcal(product_energies)\n",
        "\n",
        "T = 293.15 # Temperature in K\n",
        "coeffs_norm = product_dist(T, product_energies_kcal_rel)\n",
        "\n",
        "pr_df['Possible Products'] = product_comps\n",
        "pr_df['Relative Energy (kcal/mol)'] = product_energies_kcal_rel\n",
        "pr_df['Expected % of Product'] = coeffs_norm\n",
        "pr_df"
      ],
      "metadata": {
        "id": "t-DPCqZ786u8"
      },
      "execution_count": null,
      "outputs": []
    },
    {
      "cell_type": "markdown",
      "source": [
        "### 1.2.5 Computing Infrared Spectra"
      ],
      "metadata": {
        "id": "x9XWbDjMnkpi"
      }
    },
    {
      "cell_type": "code",
      "source": [
        "name = 'methane'\n",
        "coords = get_cart(name)\n",
        "mol = psi4.geometry(coords)\n",
        "E, wfn = psi4.optimize('scf/6-31g',molecule=mol, return_wfn=True)\n",
        "E, wfn = psi4.frequency('scf/6-31g', molecule=mol, ref_gradient=wfn.gradient(), return_wfn=True)\n",
        "psi4.molden(wfn,f'{name}.molden')\n",
        "mol.save_xyz_file(f'{name}.xyz',0)\n",
        "\n",
        "vib_info = wfn.frequency_analysis\n",
        "print(psi4.driver.qcdb.vib.print_vibs(vib_info))\n",
        "\n",
        "view = py3Dmol.view()\n",
        "view.addModel(open(f'{name}.xyz', 'r').read(),'xyz')\n",
        "view.setBackgroundColor('white')\n",
        "view.setStyle({'stick':{'radius' : 0.2}, 'sphere':{'scale' : 0.3}})\n",
        "view.zoomTo()\n",
        "view.show()\n"
      ],
      "metadata": {
        "id": "9LsHOoYKcRnH"
      },
      "execution_count": null,
      "outputs": []
    },
    {
      "cell_type": "markdown",
      "source": [
        "For methane, how many vibrational modes are output?"
      ],
      "metadata": {
        "id": "vHehP4S7xzfu"
      }
    },
    {
      "cell_type": "markdown",
      "source": [
        "(student response)"
      ],
      "metadata": {
        "id": "eU3WfKvFxziT"
      }
    },
    {
      "cell_type": "markdown",
      "source": [
        "How many of the vibrational modes output are infrared active (IR activ > 0.000)?"
      ],
      "metadata": {
        "id": "RMg1aGhfxzk6"
      }
    },
    {
      "cell_type": "markdown",
      "source": [
        "(student response)"
      ],
      "metadata": {
        "id": "MQ5YY6cjxznN"
      }
    },
    {
      "cell_type": "markdown",
      "source": [
        "Now you are going to choose a molecule to produce its vibrational modes. Add your compound name below (replace \"your_molecule\"). Note: you may NOT redo methane. Also note, the time required to complete the calculation and the number of modes output depend on the size of the molecule, so I do not recommend choosing a molecule with more than about 15 atoms."
      ],
      "metadata": {
        "id": "9AgoGBp3yhvs"
      }
    },
    {
      "cell_type": "code",
      "source": [
        "name = 'glucose'\n",
        "coords = get_cart(name)\n",
        "mol = psi4.geometry(coords)\n",
        "E, wfn = psi4.optimize('scf/6-31g',molecule=mol, return_wfn=True)\n",
        "E, wfn = psi4.frequency('scf/6-31g', molecule=mol, ref_gradient=wfn.gradient(), return_wfn=True)\n",
        "psi4.molden(wfn,f'{name}.molden')\n",
        "mol.save_xyz_file(f'{name}.xyz',0)\n",
        "\n",
        "vib_info = wfn.frequency_analysis\n",
        "print(psi4.driver.qcdb.vib.print_vibs(vib_info))\n",
        "\n",
        "view = py3Dmol.view()\n",
        "view.addModel(open(f'{name}.xyz', 'r').read(),'xyz')\n",
        "view.setBackgroundColor('white')\n",
        "view.setStyle({'stick':{'radius' : 0.2}, 'sphere':{'scale' : 0.3}})\n",
        "view.zoomTo()\n",
        "view.show()"
      ],
      "metadata": {
        "id": "Vc9NOwHdycfK"
      },
      "execution_count": null,
      "outputs": []
    },
    {
      "cell_type": "markdown",
      "source": [
        "How many vibrational modes are output for your molecule?"
      ],
      "metadata": {
        "id": "qaXoFk7QxzpW"
      }
    },
    {
      "cell_type": "markdown",
      "source": [
        "(student response)"
      ],
      "metadata": {
        "id": "2w5ZkmAJzJhd"
      }
    },
    {
      "cell_type": "markdown",
      "source": [
        "How many of the vibrational modes output for your molecule are infrared active (IR activ > 0.000)?"
      ],
      "metadata": {
        "id": "Xi6SZ8eNzL8d"
      }
    },
    {
      "cell_type": "markdown",
      "source": [
        "(student response)"
      ],
      "metadata": {
        "id": "NWzT9uZKxzr6"
      }
    },
    {
      "cell_type": "markdown",
      "source": [
        "Go to the [Spectral Database for Organic Compounds (SDBS)](https://sdbs.db.aist.go.jp/) and look up the infrared spectrum for your molecule (if your molecule does not have an IR spectrum in SDBS, please choose another molecule and repeat the above). The infrared spectra in this database will have a list of peaks. Copy the image of the spectrum and paste it below:"
      ],
      "metadata": {
        "id": "lDlUlTmPZmn6"
      }
    },
    {
      "cell_type": "markdown",
      "source": [
        "(student response)"
      ],
      "metadata": {
        "id": "Rdh2JhJqZ_FO"
      }
    },
    {
      "cell_type": "markdown",
      "source": [
        "How well do these peaks match those calculated?"
      ],
      "metadata": {
        "id": "DuaUuZsKii03"
      }
    },
    {
      "cell_type": "markdown",
      "source": [
        "(student response)"
      ],
      "metadata": {
        "id": "md9qawDpiiow"
      }
    },
    {
      "cell_type": "markdown",
      "source": [
        "## Turning in This Workbook"
      ],
      "metadata": {
        "id": "YXzaaZlOk5kv"
      }
    },
    {
      "cell_type": "markdown",
      "source": [
        "Once you have completed your work in this notebook, turn it in for grading by following these steps:"
      ],
      "metadata": {
        "id": "sb2wo70hlBDX"
      }
    },
    {
      "cell_type": "markdown",
      "source": [
        "\n",
        "\n",
        "1.   Be sure ALL tabs are expanded.\n",
        "2.   Go to file -> print.\n",
        "3.   In \"Destination\" drop down, select \"Save to PDF\".\n",
        "4.   Open this PDF and ensure that all of your work is visible.\n",
        "5.   Upload this PDF to the Brightspace course.\n",
        "\n"
      ],
      "metadata": {
        "id": "JOVcGB8xlBFu"
      }
    }
  ]
}